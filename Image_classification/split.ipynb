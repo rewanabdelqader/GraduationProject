{
 "cells": [
  {
   "cell_type": "code",
   "execution_count": null,
   "metadata": {},
   "outputs": [],
   "source": [
    "import os\n",
    "import splitfolders"
   ]
  },
  {
   "cell_type": "code",
   "execution_count": null,
   "metadata": {},
   "outputs": [],
   "source": [
    "source_dir = \"/Users/rewanabdelqader/Collage/Semster 8/Graduation_Project/DS/Fake Data/User Data.csv\"\n",
    "output_dir = \"/Users/rewanabdelqader/Collage/Semster 8/Graduation_Project/DS/Fake Data/User_Data.csv\""
   ]
  },
  {
   "cell_type": "code",
   "execution_count": null,
   "metadata": {},
   "outputs": [],
   "source": [
    "ratio = (.8, 0.1, 0.1)\n",
    "seed = 1337"
   ]
  },
  {
   "attachments": {},
   "cell_type": "markdown",
   "metadata": {},
   "source": [
    "create the output directory if it does not exist"
   ]
  },
  {
   "cell_type": "code",
   "execution_count": null,
   "metadata": {},
   "outputs": [],
   "source": [
    "if not os.path.exists(output_dir):\n",
    "    os.makedirs(output_dir)"
   ]
  },
  {
   "attachments": {},
   "cell_type": "markdown",
   "metadata": {},
   "source": [
    "loop through the subdirectories of the source directory"
   ]
  },
  {
   "cell_type": "code",
   "execution_count": 19,
   "metadata": {},
   "outputs": [
    {
     "name": "stderr",
     "output_type": "stream",
     "text": [
      "Copying files: 17168 files [00:09, 1726.40 files/s]\n",
      "Copying files: 17725 files [00:10, 1770.41 files/s]\n",
      "Copying files: 30728 files [00:18, 1663.34 files/s]\n",
      "Copying files: 18146 files [00:10, 1693.64 files/s]\n"
     ]
    }
   ],
   "source": [
    "for subdir in os.listdir(source_dir):\n",
    "    if os.path.isdir(os.path.join(source_dir, subdir)):\n",
    "        # create a subdirectory in the output directory for the current source subdirectory\n",
    "        output_subdir = os.path.join(output_dir, subdir)\n",
    "        if not os.path.exists(output_subdir):\n",
    "            os.makedirs(output_subdir)\n",
    "        \n",
    "        # use splitfolders to split the images in the current source subdirectory\n",
    "        splitfolders.ratio(os.path.join(source_dir, subdir), output=output_subdir, seed=seed, ratio=ratio)\n"
   ]
  }
 ],
 "metadata": {
  "kernelspec": {
   "display_name": "base",
   "language": "python",
   "name": "python3"
  },
  "language_info": {
   "codemirror_mode": {
    "name": "ipython",
    "version": 3
   },
   "file_extension": ".py",
   "mimetype": "text/x-python",
   "name": "python",
   "nbconvert_exporter": "python",
   "pygments_lexer": "ipython3",
   "version": "3.11.1"
  },
  "orig_nbformat": 4,
  "vscode": {
   "interpreter": {
    "hash": "40d3a090f54c6569ab1632332b64b2c03c39dcf918b08424e98f38b5ae0af88f"
   }
  }
 },
 "nbformat": 4,
 "nbformat_minor": 2
}
