{
 "cells": [
  {
   "cell_type": "code",
   "execution_count": 1,
   "metadata": {},
   "outputs": [
    {
     "name": "stdout",
     "output_type": "stream",
     "text": [
      "Defaulting to user installation because normal site-packages is not writeable\n",
      "Requirement already satisfied: Faker in /Users/rewanabdelqader/Library/Python/3.9/lib/python/site-packages (17.0.0)\n",
      "Requirement already satisfied: python-dateutil>=2.4 in /Users/rewanabdelqader/Library/Python/3.9/lib/python/site-packages (from Faker) (2.8.2)\n",
      "Requirement already satisfied: six>=1.5 in /Applications/Xcode.app/Contents/Developer/Library/Frameworks/Python3.framework/Versions/3.9/lib/python3.9/site-packages (from python-dateutil>=2.4->Faker) (1.15.0)\n",
      "\u001b[33mWARNING: You are using pip version 21.2.4; however, version 23.0 is available.\n",
      "You should consider upgrading via the '/Applications/Xcode.app/Contents/Developer/usr/bin/python3 -m pip install --upgrade pip' command.\u001b[0m\n",
      "Note: you may need to restart the kernel to use updated packages.\n"
     ]
    }
   ],
   "source": [
    "%pip install Faker"
   ]
  },
  {
   "cell_type": "code",
   "execution_count": 2,
   "metadata": {},
   "outputs": [],
   "source": [
    "from faker import Faker\n",
    "import random"
   ]
  },
  {
   "cell_type": "code",
   "execution_count": 3,
   "metadata": {},
   "outputs": [],
   "source": [
    "fake = Faker()\n"
   ]
  },
  {
   "cell_type": "code",
   "execution_count": 4,
   "metadata": {},
   "outputs": [],
   "source": [
    "# Define the possible interests\n",
    "interests = ['Food and drink', 'Outdoor activities', 'Sports', 'Music', 'Art and culture', 'Travel', 'Technology', 'Health and fitness','Photography','Reading','Volunteering','Fashion','DIY and crafts','History and politics','Science and nature','Pet lovers','Movies and TV','Gardening','Dancing','Cars','Parenting']"
   ]
  },
  {
   "cell_type": "code",
   "execution_count": 5,
   "metadata": {},
   "outputs": [],
   "source": [
    "num_rows = 1000"
   ]
  },
  {
   "cell_type": "code",
   "execution_count": 6,
   "metadata": {},
   "outputs": [],
   "source": [
    "data = []\n"
   ]
  },
  {
   "cell_type": "code",
   "execution_count": 7,
   "metadata": {},
   "outputs": [],
   "source": [
    "for i in range(num_rows):\n",
    "    row = {}\n",
    "    row['User ID'] = i+1\n",
    "    row['Interest 1'] = random.choice(interests)\n",
    "    row['Interest 2'] = random.choice(interests)\n",
    "    row['Interest 3'] = random.choice(interests)\n",
    "    row['Interest 4'] = random.choice(interests)\n",
    "    row['Interest 5'] = random.choice(interests)\n",
    "    row['Interest 6'] = random.choice(interests)\n",
    "    row['Interest 7'] = random.choice(interests)\n",
    "    row['Interest 8'] = random.choice(interests)\n",
    "    row['Interest 9'] = random.choice(interests)\n",
    "    row['Interest 10'] = random.choice(interests)\n",
    "    row['Interest 11'] = random.choice(interests)\n",
    "    row['Interest 12'] = random.choice(interests)\n",
    "    row['Interest 13'] = random.choice(interests)\n",
    "\n",
    "    data.append(row)"
   ]
  },
  {
   "cell_type": "code",
   "execution_count": 10,
   "metadata": {},
   "outputs": [
    {
     "name": "stdout",
     "output_type": "stream",
     "text": [
      "Synthetic data exported to Intersts.csv\n"
     ]
    }
   ],
   "source": [
    "import os\n",
    "import csv\n",
    "\n",
    "# Set the current working directory to a directory where you have write permissions\n",
    "os.chdir('/Users/rewanabdelqader/Collage/Semster 8/GP/DS')\n",
    "\n",
    "# Define the filename for the CSV file\n",
    "filename = 'Intersts.csv'\n",
    "\n",
    "# Open the file in write mode\n",
    "with open(filename, mode='w', newline='') as file:\n",
    "\n",
    "    # Create a writer object\n",
    "    writer = csv.DictWriter(file, fieldnames=data[0].keys())\n",
    "\n",
    "    # Write the header row\n",
    "    writer.writeheader()\n",
    "\n",
    "    # Write the data rows\n",
    "    for row in data:\n",
    "        writer.writerow(row)\n",
    "\n",
    "print(f\"Synthetic data exported to {filename}\")\n"
   ]
  }
 ],
 "metadata": {
  "kernelspec": {
   "display_name": "Python 3",
   "language": "python",
   "name": "python3"
  },
  "language_info": {
   "codemirror_mode": {
    "name": "ipython",
    "version": 3
   },
   "file_extension": ".py",
   "mimetype": "text/x-python",
   "name": "python",
   "nbconvert_exporter": "python",
   "pygments_lexer": "ipython3",
   "version": "3.11.1"
  },
  "orig_nbformat": 4,
  "vscode": {
   "interpreter": {
    "hash": "5c7b89af1651d0b8571dde13640ecdccf7d5a6204171d6ab33e7c296e100e08a"
   }
  }
 },
 "nbformat": 4,
 "nbformat_minor": 2
}
