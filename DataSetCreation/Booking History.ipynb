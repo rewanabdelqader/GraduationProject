{
 "cells": [
  {
   "cell_type": "code",
   "execution_count": 25,
   "metadata": {},
   "outputs": [
    {
     "name": "stdout",
     "output_type": "stream",
     "text": [
      "Requirement already satisfied: Faker in /opt/homebrew/lib/python3.11/site-packages (17.0.0)\n",
      "Requirement already satisfied: python-dateutil>=2.4 in /opt/homebrew/lib/python3.11/site-packages (from Faker) (2.8.2)\n",
      "Requirement already satisfied: six>=1.5 in /opt/homebrew/lib/python3.11/site-packages (from python-dateutil>=2.4->Faker) (1.16.0)\n",
      "\n",
      "\u001b[1m[\u001b[0m\u001b[34;49mnotice\u001b[0m\u001b[1;39;49m]\u001b[0m\u001b[39;49m A new release of pip available: \u001b[0m\u001b[31;49m22.3.1\u001b[0m\u001b[39;49m -> \u001b[0m\u001b[32;49m23.0\u001b[0m\n",
      "\u001b[1m[\u001b[0m\u001b[34;49mnotice\u001b[0m\u001b[1;39;49m]\u001b[0m\u001b[39;49m To update, run: \u001b[0m\u001b[32;49mpython3.11 -m pip install --upgrade pip\u001b[0m\n",
      "Note: you may need to restart the kernel to use updated packages.\n"
     ]
    }
   ],
   "source": [
    "%pip install Faker"
   ]
  },
  {
   "cell_type": "code",
   "execution_count": 26,
   "metadata": {},
   "outputs": [],
   "source": [
    "import random\n",
    "import csv\n",
    "from datetime import datetime, timedelta"
   ]
  },
  {
   "cell_type": "code",
   "execution_count": 27,
   "metadata": {},
   "outputs": [],
   "source": [
    "hangout_places = [\n",
    "    \"The Nile Ritz-Carlton\", \n",
    "    \"Cairo Tower\", \n",
    "    \"The Egyptian Museum\", \n",
    "    \"Khan el-Khalili\", \n",
    "    \"The Pyramids of Giza\", \n",
    "    \"Al-Azhar Park\", \n",
    "    \"Downtown Cairo\", \n",
    "    \"Mall of Egypt\", \n",
    "    \"City Stars\", \n",
    "    \"Zamalek\", \n",
    "    \"Manial Palace\", \n",
    "    \"Baron Palace\", \n",
    "    \"The Hanging Church\", \n",
    "    \"Sultan Hassan Mosque\", \n",
    "    \"Al-Azhar Mosque\", \n",
    "    \"Saint Catherine's Monastery\", \n",
    "    \"Bibliotheca Alexandrina\", \n",
    "    \"Montaza Palace Gardens\", \n",
    "    \"Sakkara\", \n",
    "    \"Saqqara Step Pyramid\", \n",
    "    \"Hurghada Marina\", \n",
    "    \"El Gouna\", \n",
    "    \"Marsa Alam\", \n",
    "    \"Nuweiba\", \n",
    "    \"Taba Heights\", \n",
    "    \"Red Sea Mall\", \n",
    "    \"Genena City Mall\", \n",
    "    \"The Avenue at Cairo Festival City\", \n",
    "    \"Mall of Arabia\", \n",
    "    \"The District\", \n",
    "    \"Wadi Degla Protectorate\", \n",
    "    \"Alexandria National Museum\", \n",
    "    \"El Alamein War Museum\", \n",
    "    \"Ras Mohamed National Park\", \n",
    "    \"Tiran Island\", \n",
    "    \"Philae Temple\", \n",
    "    \"Karnak Temple Complex\", \n",
    "    \"Abu Simbel temples\", \n",
    "    \"Luxor Temple\", \n",
    "    \"Kom Ombo Temple\", \n",
    "    \"Cairo Festival City Mall\", \n",
    "    \"Sun City Mall\", \n",
    "    \"Dandy Mega Mall\", \n",
    "    \"Cityscape Mall\", \n",
    "    \"O West Mall\", \n",
    "    \"Dreamland Aqua Park\", \n",
    "    \"Magic Galaxy\", \n",
    "    \"The Fun Kingdom\", \n",
    "    \"Family Land\", \n",
    "    \"Dream Park\", \n",
    "    \"Palm Hills Golf Course\", \n",
    "    \"Katameya Heights Golf Course\", \n",
    "    \"Madinaty Golf Club\", \n",
    "    \"Tanta Sporting Club\", \n",
    "    \"Maadi Sporting Club\", \n",
    "    \"Wadi Degla Sporting Club\", \n",
    "    \"Zamalek Sporting Club\", \n",
    "    \"El Gezira Sporting Club\", \n",
    "    \"Heliopolis Sporting Club\", \n",
    "    \"Alexandria Sporting Club\", \n",
    "    \"El Gouna Golf Course\", \n",
    "    \"Stadiums of Cairo International Stadium\", \n",
    "    \"Borg El Arab Stadium\", \n",
    "    \"Petroleum Stadium\", \n",
    "    \"Arab Academy for Science and Technology and Maritime Transport\", \n",
    "    \"American University in Cairo\", \n",
    "    \"Cairo University\", \n",
    "    \"Ain Shams University\", \n",
    "    \"Helwan University\", \n",
    "    \"Alexandria University\", \n",
    "    \"Assiut University\", \n",
    "    \"Mansoura University\", \n",
    "    \"Suez Canal University\", \n",
    "    \"Sohag University\", \n",
    "    \"Cairo Opera House\", \n",
    "    \"Khan el-Khalili Bazaar\", \n",
    "    \"The Great Sphinx of Giza\", \n",
    "    \"Cleopatra Beach\", \n",
    "    \"Siwa Oasis\", \n",
    "    \"The Red Sea Riviera\", \n",
    "    \"City Festival\", \n",
    "    \"Wadi El Natrun\", \n",
    "    \"The Step Pyramid of Djoser\", \n",
    "    \"The Lighthouse of Alexandria\", \n",
    "    \"Bibliotheca Alexandrina Bookstore\", \n",
    "    \"The Platform - Art Hub\", \n",
    "    \"Zamalek Art Gallery\", \n",
    "    \"Townhouse Gallery\", ]\n",
    "start_date = datetime(2021, 7, 17)\n",
    "end_date = datetime(2023, 2, 1)\n",
    "# Define the number of rows you want to generate\n",
    "num_rows = 1000"
   ]
  },
  {
   "cell_type": "code",
   "execution_count": 28,
   "metadata": {},
   "outputs": [],
   "source": [
    "import os\n",
    "import csv\n",
    "import datetime\n"
   ]
  },
  {
   "cell_type": "code",
   "execution_count": 29,
   "metadata": {},
   "outputs": [],
   "source": [
    "import datetime\n",
    "\n",
    "dt = datetime.datetime(2022, 5, 1, 10, 30, 0)  # create a datetime object\n",
    "t = dt.time()  # convert datetime object to time object\n",
    "\n",
    "# pass time object as argument to function\n",
    "#my_function(t)\n"
   ]
  },
  {
   "cell_type": "code",
   "execution_count": 30,
   "metadata": {},
   "outputs": [
    {
     "name": "stdout",
     "output_type": "stream",
     "text": [
      "Synthetic data exported to Booking History.csv\n"
     ]
    }
   ],
   "source": [
    "# Set the current working directory to a directory where you have write permissions\n",
    "os.chdir('/Users/rewanabdelqader/Collage/Semster 8/GP/DS')\n",
    "\n",
    "# Import datetime from the datetime module\n",
    "from datetime import datetime, timedelta\n",
    "\n",
    "# Define the filename for the CSV file\n",
    "filename = 'Booking History.csv'\n",
    "\n",
    "# Open the file in write mode\n",
    "with open(filename, mode='w', newline='') as file:\n",
    "\n",
    "    # Create a writer object\n",
    "    writer = csv.writer(file)\n",
    "\n",
    "    # Write the header row\n",
    "    writer.writerow(['User ID', 'Hangout Place', 'Date', 'Time', 'Number of People'])\n",
    "\n",
    "    \n",
    "    # Write the data rows\n",
    "    for i in range(num_rows):\n",
    "        user_id = random.randint(1, 1000)\n",
    "        hangout_name = random.choice(hangout_places)\n",
    "        date = start_date + timedelta(days=random.randint(0, (end_date - start_date).days))\n",
    "        time = datetime.strptime(\"{:02d}:00:00\".format(random.randint(0, 23)), \"%H:%M:%S\")\n",
    "        num_people = random.randint(1, 10)\n",
    "\n",
    "        # Combine the date and time into a single datetime object\n",
    "        datetime_obj = datetime.combine(date, time.time())\n",
    "\n",
    "        # Format the datetime object as a string\n",
    "        datetime_str = datetime_obj.strftime('%Y-%m-%d %H:%M:%S')\n",
    "\n",
    "        # Write the row to the CSV file\n",
    "        writer.writerow([user_id, hangout_name, datetime_str, time.strftime('%H:%M:%S'), num_people])\n",
    "\n",
    "\n",
    "print(f\"Synthetic data exported to {filename}\")\n"
   ]
  },
  {
   "cell_type": "code",
   "execution_count": null,
   "metadata": {},
   "outputs": [],
   "source": []
  }
 ],
 "metadata": {
  "kernelspec": {
   "display_name": "Python 3.11.1 64-bit",
   "language": "python",
   "name": "python3"
  },
  "language_info": {
   "codemirror_mode": {
    "name": "ipython",
    "version": 3
   },
   "file_extension": ".py",
   "mimetype": "text/x-python",
   "name": "python",
   "nbconvert_exporter": "python",
   "pygments_lexer": "ipython3",
   "version": "3.11.1"
  },
  "orig_nbformat": 4,
  "vscode": {
   "interpreter": {
    "hash": "5c7b89af1651d0b8571dde13640ecdccf7d5a6204171d6ab33e7c296e100e08a"
   }
  }
 },
 "nbformat": 4,
 "nbformat_minor": 2
}
