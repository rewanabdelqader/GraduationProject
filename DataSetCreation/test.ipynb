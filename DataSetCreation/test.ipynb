{
 "cells": [
  {
   "cell_type": "code",
<<<<<<< HEAD
   "execution_count": 14,
   "metadata": {},
   "outputs": [
    {
     "name": "stdout",
     "output_type": "stream",
     "text": [
      "506\n",
      "15\n",
      "15\n",
      "15\n",
      "15\n",
      "15\n",
      "15\n",
      "15\n",
      "15\n",
      "15\n"
     ]
    }
   ],
   "source": [
    "import pandas as pd\n",
    "import numpy as np\n",
    "import random\n",
    "\n",
    "# Set random seed for reproducibility\n",
    "random.seed(42)\n",
    "\n",
    "# Define lists of possible values for each column\n",
    "\n",
    "# Generate fake data for hangout places\n",
    "hangout_names =  ['Siwa Mountain', 'Dream Park', 'Al-Qaaed Park', 'Al-Galala Mountain', 'Locked Up Egypt - Cairo', 'Downtown Katameya - New Cairo', \n",
    "            'Aqua Park, Sharm El Sheikh', 'Coffee Beanery - Cairo Festival City Mall, Cairo', 'The Smokery, Cairo', 'Eish & Malh - Zamalek, Cairo', \n",
    "            '9 Lounge, Cairo', 'Galleria 40 - Cairo', 'Wadi Al-Natrun', 'Skoop Egypt - Cairo', 'Qasr Al Sarab Desert Resort', 'The Arab Music Institute - Cairo', \n",
    "            'Renaissance Cairo Mirage City Hotel - Cairo', 'Cairo Jazz Festival - Cairo', 'Magic World', 'InterContinental Cairo Semiramis - Cairo', \n",
    "            'Sky Fun Amusement Park', 'Mini Egypt Park', 'Golden Nile', 'Nubian Village', 'Marina Land', 'Caffe Greco - Dokki, Cairo', \n",
    "            'Time Lapse Egypt - Cairo', 'Hard Rock Cafe, Cairo', 'Key Quest Egypt - Cairo', 'Caffeine - Dokki, Cairo', 'Arabella Country Club', \n",
    "            'Livingstone, Cairo', 'The Waterway New Cairo - Cairo', 'Bibliotheca Alexandrina - Alexandria', 'Taba Heights Beach', \n",
    "            \"Pharaoh's Curse Escape Room - Cairo\", 'The Greek - Heliopolis, Cairo', 'Point 90 Mall - New Cairo', 'The Secret Chambers Egypt - Cairo', \n",
    "            'Panic Station Egypt - Cairo', 'The Nile Maxim - Cairo', '6th Dimension Egypt - Cairo', 'Divino Cafe & Restaurant - Maadi, Cairo', \n",
    "            'Tipplers Bar, Cairo', 'Shooting Club - Cairo', 'Escape Hour Egypt - Cairo', 'Sun City Aqua Park', 'Escapology Egypt - Alexandria', \n",
    "            'Aswan Dam', 'Sand Bar, Hurghada', 'Cairo Festival City', 'ROOM Art Space & Cafe - Cairo', 'The Irish House, Cairo',\n",
    "            'Hilton Cairo Zamalek Residences - Cairo', 'Wadi Al-Hitan', 'Marassi', 'The Tap Maadi Beach - Cairo', 'Seoudi Supermarket', \n",
    "            'La Bodega, Alexandria', 'Roomz Egypt - Cairo', 'Roof Bar, Cairo', 'Mirage Park', 'The Mall of Arabia', 'Belal & Barzilai, Alexandria',\n",
    "            'Challenge Chambers Egypt - Cairo', 'The Coven Egypt - Cairo', 'Java Java - Heliopolis, Cairo', 'Felfela - Downtown, Cairo', \n",
    "            'Caffè Greco - Downtown, Cairo', 'Pegasus Lounge Bar, Alexandria', 'The American University in Cairo - Cairo', 'Conrad Cairo - Cairo', \n",
    "            'Caffè Nero - Cairo Festival City Mall, Cairo', 'El Ein El Sokhna', 'Royal Yacht Club - Alexandria', 'Al Rehab City', 'Nile Plaza Mall', \n",
    "            'Tamara Lebanese Bistro, Cairo', 'ClueZ Egypt - Cairo', 'The Box Egypt - Cairo', 'The Italian Cultural Institute - Cairo', 'Tivoli Dome',\n",
    "            'Sheraton Cairo Hotel & Casino - Cairo', 'The Smokery Beach, Alexandria', 'Space Sharm El Sheikh', 'Escape Zone Egypt - Cairo', \n",
    "            'The Corner - Mohandeseen, Cairo', 'Almaza City Center', 'O2 Lounge, Sharm El Sheikh', 'Sphinx Park', 'Questopia Egypt - Cairo', \n",
    "            'Tahrir Square', 'El Hanager Arts Centre - Cairo', 'Trianon Cafe - Maadi, Cairo', 'Kharga Oasis', 'Zaranik Protectorate', \n",
    "            'Escapology Egypt - Cairo', 'El Fishawy, Cairo', 'Sky Bar, Hurghada', 'Al Madina Park', 'Swiss Inn Nile Hotel - Cairo', \n",
    "            'Caffe Greco - Heliopolis, Cairo', 'Titanic Beach Spa & Aqua Park', 'Find Your Way Egypt - Cairo', 'Coney Island', 'New Marina, El Gouna', \n",
    "            'Cafe Supremo - New Cairo, Cairo', 'Cairo Marriott Hotel - Cairo', 'Cairo International Convention Centre - Cairo', \n",
    "            'Nozha Beach Club, Alexandria', 'Blue Lagoon Aqua Park', 'Panorama Cafe - Downtown, Cairo', 'Al Kawther Water Park', 'Al-Quds Park',\n",
    "            'Cafe Greco - Zamalek, Cairo', 'Costa Coffee - Citystars Mall, Cairo', 'Festival City Mall', 'Escape Plan Egypt - Cairo', \n",
    "            'Pacha Sharm El Sheikh', 'Le Méridien Pyramids Hotel & Spa - Cairo', 'Sharm El Sheikh Beach', 'Enigma Egypt - Cairo', \n",
    "            'Cairo Jazz Club - Cairo', 'The Time Chamber Egypt - Cairo', 'Pane Vino, Alexandria', 'Grand Cafe, Cairo', 'The Tap East, Cairo',\n",
    "            'Al-Orman Garden', 'El Nahda Association for Arts and Culture - Alexandria', 'Club 35, Cairo', 'City Stars Park', 'The Tap West, Cairo', \n",
    "            'Tche Tche - Zamalek, Cairo', 'Escape Room Egypt - Heliopolis', 'Happy Dolphin', 'Roasting House - New Cairo, Cairo', 'Xcape Egypt - Cairo',\n",
    "            'Royal Water Park', 'The Lemon Tree & Co., Cairo', 'Brain Game Egypt - Cairo', 'Funtasia Water Park', 'Starbucks - Nile City Towers, Cairo', \n",
    "            'Adventure Rooms Egypt - Cairo', \"Cleopatra's Bath\", 'Hadaba Aqua Park', 'Ras El-Soda Beach', 'Fustat Park', 'Gabal Albaqar Mountain', \n",
    "            \"Saint Catherine's Monastery\", 'El Tanboura Hall - Cairo', 'Brioche Doree - Cairo Festival City Mall, Cairo', 'Sabai Sabai, Cairo', \n",
    "            'Wadi Sannur Cave', 'Insomnia Egypt - Cairo', \"Fat Harry's, Cairo\", 'Wadi Degla Sporting Club - Cairo', 'Teatro, Cairo', \n",
    "            'The Sunken City of Heracleion', 'Dream Land', 'The Escape Egypt - Hurghada', 'Fanara Beach', 'The Basement Egypt - Cairo', 'Blue Bay', \n",
    "            'Cilantro - Maadi, Cairo', 'Borg El Arab Stadium', 'Dandy Mega Mall - Cairo', 'Little Buddha, Sharm El Sheikh', 'Giza Plateau', \n",
    "            'Great Escape Egypt - Cairo', 'The GrEEK Campus - Tahrir Square, Cairo', 'Sharm Plaza', 'The Cellar, Cairo', 'Get Out Egypt - Cairo',\n",
    "            'Al Ahly Sports Club - Cairo', 'The Greek Village', 'Delice - Heliopolis, Cairo', 'Taziry Ecolodge Siwa', 'Cairo Tower', \n",
    "            'Sun City Mall - Cairo', 'Bus Stop, Cairo', 'Cairo International Park', 'Sindbad Aqua Park', 'Mojo Lounge & Grill, Cairo', \n",
    "            'The Bar, Cairo', 'Exit Games Egypt - Cairo', 'Crazy Water Park', 'Heliopolis Sporting Club - Cairo', 'The Lodge Bar, Alexandria', \n",
    "            \"St. Paul's Monastery\", 'Royal Maxim Palace Kempinski Cairo - Cairo', 'The Royal Crown, Alexandria', 'Al Kholafaa Al Rashedeen Mosque Park', \n",
    "            'Al-Obour City Park', 'Pyramids Park Resort Cairo - Cairo', 'Houdini Egypt - Cairo', 'Citadel of Qaitbay', 'Xscapology Egypt - Cairo', \n",
    "            'Escapers Egypt - Cairo', 'Future Park', 'El Sakia Theatre - Cairo', 'Family Park in Maadi', \"Pharaoh's Island\", 'Jungle Aqua Park',\n",
    "            'Fun Kingdom', 'Pub 28, Cairo', 'Magic Galaxy', 'The Westin Cairo Golf Resort & Spa - Cairo', 'Al-Omari Mosque Park', 'Sky Mall', \n",
    "            'Wadi Degla Protectorate', 'Tim Hortons - Citystars Mall, Cairo', 'The Great Escape Egypt - Alexandria', 'Al-Fayoum Oasis', \n",
    "            'Al Horreya Park', 'Costa Coffee - Multiple locations in Cairo', 'Rooftop Lounge & Bar, Alexandria', 'The Tap Maadi Street 9, Cairo', \n",
    "            '30 June Stadium - Cairo', 'Abu Simbel Temple', 'Panic Room Egypt - Cairo', 'Filfila - Downtown, Cairo', 'Makadi Aqua Park', \n",
    "            'Cafe Supreme - Maadi, Cairo', 'Aqua Park El-Quseir', 'Soho Square, Sharm El Sheikh', 'Porto Cairo Mall - Cairo', 'Cleopark', \n",
    "            'The Japan Foundation - Cairo', 'Escape the Crate Egypt - Cairo', 'The Park Mall', 'The Vault Egypt - Cairo', 'The Marina El Alamein',\n",
    "            'The Tap West - Sheikh Zayed', 'The Key Egypt - Cairo', 'Giza Zoo', 'Aladin Park', 'Tanta Amusement Park', 'Rihana Resort', \n",
    "            'Titanic Aqua Park', 'Pascucci - Mall of Egypt, Giza', 'Phobia Egypt - Cairo', 'Osiris - Cairo', 'Green & Beans - Maadi, Cairo', \n",
    "            'Tintawi - Maadi, Cairo', 'Mystery Rooms Egypt - Cairo', 'Mahmya Island', 'The Room Egypt - Cairo', 'Luna Park', 'City Stars Mall',\n",
    "            'Bon Appetit - Heliopolis, Cairo', 'Aqua Park', 'Kempinski Nile Hotel - Cairo', \"Beano's Cafe - Maadi, Cairo\", \n",
    "            'The Nile Ritz-Carlton - Cairo', 'Port Said Lighthouse', 'Indigo Beach Club, Hurghada', 'Dinosaur Park', 'Maadi City Center',\n",
    "            'Mind Maze Egypt - Cairo', 'Adventure Land', 'Cairo Capital Club, Cairo', 'Tamarai, Cairo', 'Ramses Hilton - Cairo', 'Jolly Ville', \n",
    "            'El Horreya, Alexandria', 'The Lodge, Cairo', 'I Bistro Bar, Cairo', 'The Chamber Egypt - Cairo', 'Mastermind Egypt - Cairo', \n",
    "            'Fairmont Nile City - Cairo', 'The Chamber of Secrets Egypt - Cairo', 'El Gezira Sporting Club - Cairo', 'Loft21, Cairo',\n",
    "            'Al-Mashaya Reserve', 'Escape In Egypt - Cairo', 'Raqs Egypt - Cairo', 'Al-Manshiya Square', 'Al Montazah Park', 'Sharm El-Naga Beach',\n",
    "            'Amazonia', 'Enab Beirut, Cairo', 'The Coffee House - Maadi, Cairo', 'Porto Marina Resort and Spa', 'The French Institute - Cairo', \n",
    "            'Sun Wing Water World', 'Mena House Hotel - Cairo', 'The Greek Campus, Cairo', 'UpTown Mall', 'Hurgada Grand Aquarium', \n",
    "            'The Bakery - Heliopolis, Cairo', 'Amaze Egypt - Cairo', 'Gourmandise - Zamalek, Cairo', '100 Copies Music Space - Cairo', \n",
    "            'Citystars - Cairo', 'Grand Cafe - Zamalek, Cairo', 'The Room Egypt - Alexandria', 'The St. Regis Cairo - Cairo', 'Downtown Mall',\n",
    "            'Four Seasons Hotel Cairo at Nile Plaza - Cairo', 'The British Council - Cairo', 'El Gomhoreya Theatre - Cairo', \n",
    "            'El Sawy Culturewheel - Cairo', 'The Tap East - New Cairo', 'Sun City Mall', 'Deck 35, Alexandria', 'Left Bank, Cairo', \n",
    "            'Jungle Aqua Park Hurghada', 'Festival City Mall - Cairo', 'Genena City', 'Hour Escape Egypt - Cairo', 'T-Spot - Nasr City, Cairo', \n",
    "            'Aqua Park City', 'Ras Mohamed National Park', 'Locked Room Egypt - Cairo', 'Aswan High Dam', 'Hurghada Grand Aquarium', \n",
    "            'The Tipsy Teapot, Cairo', 'Escape Artist Egypt - Cairo', 'The Nile Corniche', 'Zigzag - Cairo', 'Le Deck, Alexandria', \n",
    "            'Beit El Sennari - Cairo', 'Miami Park', 'Alchemy - Cairo', 'Pharos Island', 'La Maison Blanche - Heliopolis, Cairo', \n",
    "            'The Escape Hunt Experience Egypt - Cairo', 'Cafeina - New Cairo, Cairo', 'Karnak Temple', 'Taht El Saytara, Cairo', 'Al Mamoura Beach',\n",
    "            'The Escapers Egypt - Alexandria', 'Al Andalus Park', 'Alexandria Zoo', 'Getaway Egypt - Cairo', 'El Rowad, Cairo', 'El Gouna', 'Royal Mall',\n",
    "            'Room Escape Egypt - Cairo', 'Escape Egypt - Cairo', 'Amici Bar & Grill, Cairo', 'El Nabatat Island', 'Hurghada Beach', 'Mega Mall',\n",
    "            'Gezira Club', 'The Cairo Opera House - Cairo', \"Cap d'Or, Alexandria\", 'The Kitchenette - New Cairo, Cairo', 'Ras El Bar',\n",
    "            'Escape It Egypt - Alexandria', 'Sharm Happy Land', 'Mystic Wadi', '6IX Degrees, Cairo', 'Red Sea Monastery',\n",
    "            'Borg El Arab Stadium - Alexandria', 'Mugg & Bean - Zamalek, Cairo', 'Exit Plan Egypt - Cairo', 'Green Valley', \"L'Oasis, Cairo\",\n",
    "            'The Nile Ritz-Carlton Spa - Cairo', 'Sufi - Zamalek, Cairo', 'The Swedish Institute - Alexandria', 'Cafe Supreme - Zamalek, Cairo', \n",
    "            'The Tap Maadi Street 231, Cairo', 'Mall of Egypt - Cairo', 'Al Marassi Beach', 'The Bistro, Cairo', \"Lock'n'Load Egypt - Cairo\", \n",
    "            'Montaza Palace Gardens', 'Exit Egypt - Cairo', 'Al-Masah Hotel and Spa', 'King Tut Aqua Park', 'Indigo, Cairo', \n",
    "            \"Seagull Beach Bar, HurghadaHarry's Pub, Alexandria\", 'The Room Egypt - Giza', 'Mall of Egypt', 'El Dammah Theater - Cairo', \n",
    "            'Serapium Forest', 'Coffee Lounge - Zamalek, Cairo', 'CinnZeo Bakery Cafe - Mall of Egypt, Giza', 'Paradox Egypt - Cairo', \n",
    "            'Alf Leila Wa Leila', 'Break Egypt - Cairo', 'Jungle Park', '24K, Cairo', 'Happy Land', 'Al Khazan Park', 'Oyoun Mousa', \n",
    "            'The Magnolia Hall - Cairo', 'Nile City Towers', 'Breakout Egypt - Sharm El Sheikh', 'Ghibli Raceway', 'The Tap Downtown, Cairo', \n",
    "            'Escape House Egypt - Cairo', 'Gardenia Cafe - Maadi, Cairo', 'Cairo Jazz Club, Cairo', 'Sun Aqua Park', 'The Backyard, Cairo', \n",
    "            'Mince - New Cairo, Cairo', 'La Bodega, Cairo', 'The Terrace, Cairo', \"Harry's Pub, Cairo\", 'Alexandria City Center', 'El-Tor Beach',\n",
    "            'Dolphin Park', 'The Greek Club - Alexandria', 'Aqua Blu Sharm El Sheikh', 'Sky Roof Bar & Lounge, Alexandria', \n",
    "            'Sofitel Cairo Nile El Gezirah - Cairo', 'El Genaina Theatre - Cairo', 'Rawabet Theater - Cairo', 'Siwa Oasis', 'Wadi Adventure',\n",
    "            'The Tap Maadi - Cairo', 'Paul Bakery & Cafe - Nile City Towers, Cairo', 'Cafe Tabasco - Maadi, Cairo', 'Dahab Beach', \n",
    "            \"Dunkin' Donuts - Multiple locations in Cairo\", 'Terrace Cafe & Bar, Cairo', 'Fox in a Box Egypt - Cairo', 'Fjord Bay', \n",
    "            'Gouna Yacht Club, Hurghada', 'Escape Room Egypt - Alexandria', 'El Sokhna Port', 'Cairo Festival City - Cairo', 'Bamboo Beach, Hurghada',\n",
    "            'Al-Rahmaniyah Park', 'Trapped Egypt - Cairo', 'The District Mall', 'Second Cup - Mall of Egypt, Giza', 'Espresso Lab - Maadi, Cairo',\n",
    "            'The Grand Mall', 'Wonderland Park', 'Escape Egypt - Alexandria', 'The Tap Maadi, Cairo', 'Le Chantilly - Heliopolis, Cairo', \n",
    "            'The GrEEK Campus - New Cairo, Cairo', 'Tiran Island', 'Pyramids Land', 'Darb 1718 - Cairo', 'Riddle Room Egypt - Cairo', \n",
    "            'Sun City Hurghada', 'Luxor Temple', 'Buddha-Bar Beach, Sahel', 'First Mall', 'Sun Rise Aqua Park', 'Zahran Park', 'Aqua Park Sokhna', \n",
    "            'Luxor Land', 'El Fayoum Oasis', 'The Key Egypt - Alexandria', 'Mersa Matrouh Beach', 'Al Zohour Club', 'Rio Nightclub, Sharm El Sheikh',\n",
    "            'Left Bank, Alexandria', 'Escape Key Egypt - Alexandria', 'Soho Square Sharm El Sheikh', 'The Halls Egypt - Cairo', 'Odeon Palace, Alexandria', \n",
    "            'Enchanted Escape Egypt - Cairo', 'A.S.E. Egypt - Cairo', 'The Escape Room Egypt - Cairo', 'Wunder Garten, Alexandria',\n",
    "            'TBS - Heliopolis, Cairo', 'Al Koronfel Park', 'The Great Sand Sea', 'Flee Egypt - Cairo', 'Madinaty City', 'Xroomz Egypt - Cairo', \n",
    "            'Magic Land', 'Tiba Outlet Mall', 'Alex Park', 'El Beit - Zamalek, Cairo', 'Koshari Abou Tarek, Cairo', \n",
    "            'Darb 1718 Contemporary Art and Culture Center - Cairo', 'Breakout Egypt - Alexandria', 'Fun City', 'Crazy Water Park Sokhna',\n",
    "            'Les Amis, Cairo', 'Family Land', 'Sharm Cliff Park', 'The Riddle Egypt - Cairo', 'Yalla Bina - Mohandeseen, Cairo',\n",
    "            'Caribou Coffee - Downtown Mall, Cairo', 'Al-Azhar Park', 'Project Escape Egypt - Cairo', 'The German Cultural Center - Cairo', \n",
    "            \"St. Anthony's Monastery\", 'Cinnabon Cafe - Citystars Mall, Cairo', 'Cairo International Stadium - Cairo', 'Sphinx Aqua Park', \n",
    "            'Breakout Egypt - Cairo', 'Coffee Republic - Maadi, Cairo', 'Aswan Botanical Garden', 'Rooms Egypt - Alexandria', \n",
    "            'The Escape Room Egypt - El Gouna', 'Hysteria Egypt - Cairo', 'Sky Water Park', 'La Plage, Alexandria', 'The Platform - Cairo',\n",
    "            'Code to Escape Egypt - Cairo', 'Buddha-Bar, Sahel', 'Ice Skating Rink', 'La Poire Cafe - Nasr City, Cairo',\n",
    "            'Cairo Contemporary Dance Center - Cairo', 'Buddha-Bar, Cairo']\n",
    "hangout_ratings = np.round(np.random.uniform(2.5, 5.0, size=15), 1)\n",
    "hangout_review_counts = np.random.randint(50, 1000, size=15)\n",
    "hangout_excellent_counts = np.round(hangout_review_counts * np.random.uniform(0.1, 0.5, size=15)).astype(int)\n",
    "hangout_very_good_counts = np.round(hangout_review_counts * np.random.uniform(0.1, 0.5, size=15)).astype(int)\n",
    "hangout_average_counts = np.round(hangout_review_counts * np.random.uniform(0.1, 0.3, size=15)).astype(int)\n",
    "hangout_poor_counts = np.round(hangout_review_counts * np.random.uniform(0.05, 0.1, size=15)).astype(int)\n",
    "hangout_terrible_counts = np.round(hangout_review_counts * np.random.uniform(0.01, 0.05, size=15)).astype(int)\n",
    "hangout_prices = np.random.randint(5, 50, size=(15, 2))\n",
    "hangout_price_from = np.min(hangout_prices, axis=1)\n",
    "hangout_price_to = np.max(hangout_prices, axis=1)\n",
    "print(len(hangout_names))\n",
    "print(len(hangout_price_from))\n",
    "print(len(hangout_price_to))\n",
    "print(len(hangout_ratings))\n",
    "print(len(hangout_review_counts))\n",
    "print(len(hangout_excellent_counts))\n",
    "print(len(hangout_very_good_counts))\n",
    "print(len(hangout_average_counts))\n",
    "print(len(hangout_poor_counts))\n",
    "print(len(hangout_terrible_counts))\n",
    "\n",
    "\n"
   ]
  },
  {
   "cell_type": "code",
   "execution_count": null,
   "metadata": {},
   "outputs": [],
   "source": []
  },
  {
   "cell_type": "code",
   "execution_count": 6,
   "metadata": {},
   "outputs": [],
   "source": [
    "import pandas as pd\n",
    "import numpy as np\n",
    "\n",
    "# Generate fake data for hangout places\n",
    "hangout_names =  ['Siwa Mountain', 'Dream Park', 'Al-Qaaed Park', 'Al-Galala Mountain', 'Locked Up Egypt - Cairo', 'Downtown Katameya - New Cairo', \n",
    "            'Aqua Park, Sharm El Sheikh', 'Coffee Beanery - Cairo Festival City Mall, Cairo', 'The Smokery, Cairo', 'Eish & Malh - Zamalek, Cairo', \n",
    "            '9 Lounge, Cairo', 'Galleria 40 - Cairo', 'Wadi Al-Natrun', 'Skoop Egypt - Cairo', 'Qasr Al Sarab Desert Resort', 'The Arab Music Institute - Cairo', \n",
    "            'Renaissance Cairo Mirage City Hotel - Cairo', 'Cairo Jazz Festival - Cairo', 'Magic World', 'InterContinental Cairo Semiramis - Cairo', \n",
    "            'Sky Fun Amusement Park', 'Mini Egypt Park', 'Golden Nile', 'Nubian Village', 'Marina Land', 'Caffe Greco - Dokki, Cairo', \n",
    "            'Time Lapse Egypt - Cairo', 'Hard Rock Cafe, Cairo', 'Key Quest Egypt - Cairo', 'Caffeine - Dokki, Cairo', 'Arabella Country Club', \n",
    "            'Livingstone, Cairo', 'The Waterway New Cairo - Cairo', 'Bibliotheca Alexandrina - Alexandria', 'Taba Heights Beach', \n",
    "            \"Pharaoh's Curse Escape Room - Cairo\", 'The Greek - Heliopolis, Cairo', 'Point 90 Mall - New Cairo', 'The Secret Chambers Egypt - Cairo', \n",
    "            'Panic Station Egypt - Cairo', 'The Nile Maxim - Cairo', '6th Dimension Egypt - Cairo', 'Divino Cafe & Restaurant - Maadi, Cairo', \n",
    "            'Tipplers Bar, Cairo', 'Shooting Club - Cairo', 'Escape Hour Egypt - Cairo', 'Sun City Aqua Park', 'Escapology Egypt - Alexandria', \n",
    "            'Aswan Dam', 'Sand Bar, Hurghada', 'Cairo Festival City', 'ROOM Art Space & Cafe - Cairo', 'The Irish House, Cairo',\n",
    "            'Hilton Cairo Zamalek Residences - Cairo', 'Wadi Al-Hitan', 'Marassi', 'The Tap Maadi Beach - Cairo', 'Seoudi Supermarket', \n",
    "            'La Bodega, Alexandria', 'Roomz Egypt - Cairo', 'Roof Bar, Cairo', 'Mirage Park', 'The Mall of Arabia', 'Belal & Barzilai, Alexandria',\n",
    "            'Challenge Chambers Egypt - Cairo', 'The Coven Egypt - Cairo', 'Java Java - Heliopolis, Cairo', 'Felfela - Downtown, Cairo', \n",
    "            'Caffè Greco - Downtown, Cairo', 'Pegasus Lounge Bar, Alexandria', 'The American University in Cairo - Cairo', 'Conrad Cairo - Cairo', \n",
    "            'Caffè Nero - Cairo Festival City Mall, Cairo', 'El Ein El Sokhna', 'Royal Yacht Club - Alexandria', 'Al Rehab City', 'Nile Plaza Mall', \n",
    "            'Tamara Lebanese Bistro, Cairo', 'ClueZ Egypt - Cairo', 'The Box Egypt - Cairo', 'The Italian Cultural Institute - Cairo', 'Tivoli Dome',\n",
    "            'Sheraton Cairo Hotel & Casino - Cairo', 'The Smokery Beach, Alexandria', 'Space Sharm El Sheikh', 'Escape Zone Egypt - Cairo', \n",
    "            'The Corner - Mohandeseen, Cairo', 'Almaza City Center', 'O2 Lounge, Sharm El Sheikh', 'Sphinx Park', 'Questopia Egypt - Cairo', \n",
    "            'Tahrir Square', 'El Hanager Arts Centre - Cairo', 'Trianon Cafe - Maadi, Cairo', 'Kharga Oasis', 'Zaranik Protectorate', \n",
    "            'Escapology Egypt - Cairo', 'El Fishawy, Cairo', 'Sky Bar, Hurghada', 'Al Madina Park', 'Swiss Inn Nile Hotel - Cairo', \n",
    "            'Caffe Greco - Heliopolis, Cairo', 'Titanic Beach Spa & Aqua Park', 'Find Your Way Egypt - Cairo', 'Coney Island', 'New Marina, El Gouna', \n",
    "            'Cafe Supremo - New Cairo, Cairo', 'Cairo Marriott Hotel - Cairo', 'Cairo International Convention Centre - Cairo', \n",
    "            'Nozha Beach Club, Alexandria', 'Blue Lagoon Aqua Park', 'Panorama Cafe - Downtown, Cairo', 'Al Kawther Water Park', 'Al-Quds Park',\n",
    "            'Cafe Greco - Zamalek, Cairo', 'Costa Coffee - Citystars Mall, Cairo', 'Festival City Mall', 'Escape Plan Egypt - Cairo', \n",
    "            'Pacha Sharm El Sheikh', 'Le Méridien Pyramids Hotel & Spa - Cairo', 'Sharm El Sheikh Beach', 'Enigma Egypt - Cairo', \n",
    "            'Cairo Jazz Club - Cairo', 'The Time Chamber Egypt - Cairo', 'Pane Vino, Alexandria', 'Grand Cafe, Cairo', 'The Tap East, Cairo',\n",
    "            'Al-Orman Garden', 'El Nahda Association for Arts and Culture - Alexandria', 'Club 35, Cairo', 'City Stars Park', 'The Tap West, Cairo', \n",
    "            'Tche Tche - Zamalek, Cairo', 'Escape Room Egypt - Heliopolis', 'Happy Dolphin', 'Roasting House - New Cairo, Cairo', 'Xcape Egypt - Cairo',\n",
    "            'Royal Water Park', 'The Lemon Tree & Co., Cairo', 'Brain Game Egypt - Cairo', 'Funtasia Water Park', 'Starbucks - Nile City Towers, Cairo', \n",
    "            'Adventure Rooms Egypt - Cairo', \"Cleopatra's Bath\", 'Hadaba Aqua Park', 'Ras El-Soda Beach', 'Fustat Park', 'Gabal Albaqar Mountain', \n",
    "            \"Saint Catherine's Monastery\", 'El Tanboura Hall - Cairo', 'Brioche Doree - Cairo Festival City Mall, Cairo', 'Sabai Sabai, Cairo', \n",
    "            'Wadi Sannur Cave', 'Insomnia Egypt - Cairo', \"Fat Harry's, Cairo\", 'Wadi Degla Sporting Club - Cairo', 'Teatro, Cairo', \n",
    "            'The Sunken City of Heracleion', 'Dream Land', 'The Escape Egypt - Hurghada', 'Fanara Beach', 'The Basement Egypt - Cairo', 'Blue Bay', \n",
    "            'Cilantro - Maadi, Cairo', 'Borg El Arab Stadium', 'Dandy Mega Mall - Cairo', 'Little Buddha, Sharm El Sheikh', 'Giza Plateau', \n",
    "            'Great Escape Egypt - Cairo', 'The GrEEK Campus - Tahrir Square, Cairo', 'Sharm Plaza', 'The Cellar, Cairo', 'Get Out Egypt - Cairo',\n",
    "            'Al Ahly Sports Club - Cairo', 'The Greek Village', 'Delice - Heliopolis, Cairo', 'Taziry Ecolodge Siwa', 'Cairo Tower', \n",
    "            'Sun City Mall - Cairo', 'Bus Stop, Cairo', 'Cairo International Park', 'Sindbad Aqua Park', 'Mojo Lounge & Grill, Cairo', \n",
    "            'The Bar, Cairo', 'Exit Games Egypt - Cairo', 'Crazy Water Park', 'Heliopolis Sporting Club - Cairo', 'The Lodge Bar, Alexandria', \n",
    "            \"St. Paul's Monastery\", 'Royal Maxim Palace Kempinski Cairo - Cairo', 'The Royal Crown, Alexandria', 'Al Kholafaa Al Rashedeen Mosque Park', \n",
    "            'Al-Obour City Park', 'Pyramids Park Resort Cairo - Cairo', 'Houdini Egypt - Cairo', 'Citadel of Qaitbay', 'Xscapology Egypt - Cairo', \n",
    "            'Escapers Egypt - Cairo', 'Future Park', 'El Sakia Theatre - Cairo', 'Family Park in Maadi', \"Pharaoh's Island\", 'Jungle Aqua Park',\n",
    "            'Fun Kingdom', 'Pub 28, Cairo', 'Magic Galaxy', 'The Westin Cairo Golf Resort & Spa - Cairo', 'Al-Omari Mosque Park', 'Sky Mall', \n",
    "            'Wadi Degla Protectorate', 'Tim Hortons - Citystars Mall, Cairo', 'The Great Escape Egypt - Alexandria', 'Al-Fayoum Oasis', \n",
    "            'Al Horreya Park', 'Costa Coffee - Multiple locations in Cairo', 'Rooftop Lounge & Bar, Alexandria', 'The Tap Maadi Street 9, Cairo', \n",
    "            '30 June Stadium - Cairo', 'Abu Simbel Temple', 'Panic Room Egypt - Cairo', 'Filfila - Downtown, Cairo', 'Makadi Aqua Park', \n",
    "            'Cafe Supreme - Maadi, Cairo', 'Aqua Park El-Quseir', 'Soho Square, Sharm El Sheikh', 'Porto Cairo Mall - Cairo', 'Cleopark', \n",
    "            'The Japan Foundation - Cairo', 'Escape the Crate Egypt - Cairo', 'The Park Mall', 'The Vault Egypt - Cairo', 'The Marina El Alamein',\n",
    "            'The Tap West - Sheikh Zayed', 'The Key Egypt - Cairo', 'Giza Zoo', 'Aladin Park', 'Tanta Amusement Park', 'Rihana Resort', \n",
    "            'Titanic Aqua Park', 'Pascucci - Mall of Egypt, Giza', 'Phobia Egypt - Cairo', 'Osiris - Cairo', 'Green & Beans - Maadi, Cairo', \n",
    "            'Tintawi - Maadi, Cairo', 'Mystery Rooms Egypt - Cairo', 'Mahmya Island', 'The Room Egypt - Cairo', 'Luna Park', 'City Stars Mall',\n",
    "            'Bon Appetit - Heliopolis, Cairo', 'Aqua Park', 'Kempinski Nile Hotel - Cairo', \"Beano's Cafe - Maadi, Cairo\", \n",
    "            'The Nile Ritz-Carlton - Cairo', 'Port Said Lighthouse', 'Indigo Beach Club, Hurghada', 'Dinosaur Park', 'Maadi City Center',\n",
    "            'Mind Maze Egypt - Cairo', 'Adventure Land', 'Cairo Capital Club, Cairo', 'Tamarai, Cairo', 'Ramses Hilton - Cairo', 'Jolly Ville', \n",
    "            'El Horreya, Alexandria', 'The Lodge, Cairo', 'I Bistro Bar, Cairo', 'The Chamber Egypt - Cairo', 'Mastermind Egypt - Cairo', \n",
    "            'Fairmont Nile City - Cairo', 'The Chamber of Secrets Egypt - Cairo', 'El Gezira Sporting Club - Cairo', 'Loft21, Cairo',\n",
    "            'Al-Mashaya Reserve', 'Escape In Egypt - Cairo', 'Raqs Egypt - Cairo', 'Al-Manshiya Square', 'Al Montazah Park', 'Sharm El-Naga Beach',\n",
    "            'Amazonia', 'Enab Beirut, Cairo', 'The Coffee House - Maadi, Cairo', 'Porto Marina Resort and Spa', 'The French Institute - Cairo', \n",
    "            'Sun Wing Water World', 'Mena House Hotel - Cairo', 'The Greek Campus, Cairo', 'UpTown Mall', 'Hurgada Grand Aquarium', \n",
    "            'The Bakery - Heliopolis, Cairo', 'Amaze Egypt - Cairo', 'Gourmandise - Zamalek, Cairo', '100 Copies Music Space - Cairo', \n",
    "            'Citystars - Cairo', 'Grand Cafe - Zamalek, Cairo', 'The Room Egypt - Alexandria', 'The St. Regis Cairo - Cairo', 'Downtown Mall',\n",
    "            'Four Seasons Hotel Cairo at Nile Plaza - Cairo', 'The British Council - Cairo', 'El Gomhoreya Theatre - Cairo', \n",
    "            'El Sawy Culturewheel - Cairo', 'The Tap East - New Cairo', 'Sun City Mall', 'Deck 35, Alexandria', 'Left Bank, Cairo', \n",
    "            'Jungle Aqua Park Hurghada', 'Festival City Mall - Cairo', 'Genena City', 'Hour Escape Egypt - Cairo', 'T-Spot - Nasr City, Cairo', \n",
    "            'Aqua Park City', 'Ras Mohamed National Park', 'Locked Room Egypt - Cairo', 'Aswan High Dam', 'Hurghada Grand Aquarium', \n",
    "            'The Tipsy Teapot, Cairo', 'Escape Artist Egypt - Cairo', 'The Nile Corniche', 'Zigzag - Cairo', 'Le Deck, Alexandria', \n",
    "            'Beit El Sennari - Cairo', 'Miami Park', 'Alchemy - Cairo', 'Pharos Island', 'La Maison Blanche - Heliopolis, Cairo', \n",
    "            'The Escape Hunt Experience Egypt - Cairo', 'Cafeina - New Cairo, Cairo', 'Karnak Temple', 'Taht El Saytara, Cairo', 'Al Mamoura Beach',\n",
    "            'The Escapers Egypt - Alexandria', 'Al Andalus Park', 'Alexandria Zoo', 'Getaway Egypt - Cairo', 'El Rowad, Cairo', 'El Gouna', 'Royal Mall',\n",
    "            'Room Escape Egypt - Cairo', 'Escape Egypt - Cairo', 'Amici Bar & Grill, Cairo', 'El Nabatat Island', 'Hurghada Beach', 'Mega Mall',\n",
    "            'Gezira Club', 'The Cairo Opera House - Cairo', \"Cap d'Or, Alexandria\", 'The Kitchenette - New Cairo, Cairo', 'Ras El Bar',\n",
    "            'Escape It Egypt - Alexandria', 'Sharm Happy Land', 'Mystic Wadi', '6IX Degrees, Cairo', 'Red Sea Monastery',\n",
    "            'Borg El Arab Stadium - Alexandria', 'Mugg & Bean - Zamalek, Cairo', 'Exit Plan Egypt - Cairo', 'Green Valley', \"L'Oasis, Cairo\",\n",
    "            'The Nile Ritz-Carlton Spa - Cairo', 'Sufi - Zamalek, Cairo', 'The Swedish Institute - Alexandria', 'Cafe Supreme - Zamalek, Cairo', \n",
    "            'The Tap Maadi Street 231, Cairo', 'Mall of Egypt - Cairo', 'Al Marassi Beach', 'The Bistro, Cairo', \"Lock'n'Load Egypt - Cairo\", \n",
    "            'Montaza Palace Gardens', 'Exit Egypt - Cairo', 'Al-Masah Hotel and Spa', 'King Tut Aqua Park', 'Indigo, Cairo', \n",
    "            \"Seagull Beach Bar, HurghadaHarry's Pub, Alexandria\", 'The Room Egypt - Giza', 'Mall of Egypt', 'El Dammah Theater - Cairo', \n",
    "            'Serapium Forest', 'Coffee Lounge - Zamalek, Cairo', 'CinnZeo Bakery Cafe - Mall of Egypt, Giza', 'Paradox Egypt - Cairo', \n",
    "            'Alf Leila Wa Leila', 'Break Egypt - Cairo', 'Jungle Park', '24K, Cairo', 'Happy Land', 'Al Khazan Park', 'Oyoun Mousa', \n",
    "            'The Magnolia Hall - Cairo', 'Nile City Towers', 'Breakout Egypt - Sharm El Sheikh', 'Ghibli Raceway', 'The Tap Downtown, Cairo', \n",
    "            'Escape House Egypt - Cairo', 'Gardenia Cafe - Maadi, Cairo', 'Cairo Jazz Club, Cairo', 'Sun Aqua Park', 'The Backyard, Cairo', \n",
    "            'Mince - New Cairo, Cairo', 'La Bodega, Cairo', 'The Terrace, Cairo', \"Harry's Pub, Cairo\", 'Alexandria City Center', 'El-Tor Beach',\n",
    "            'Dolphin Park', 'The Greek Club - Alexandria', 'Aqua Blu Sharm El Sheikh', 'Sky Roof Bar & Lounge, Alexandria', \n",
    "            'Sofitel Cairo Nile El Gezirah - Cairo', 'El Genaina Theatre - Cairo', 'Rawabet Theater - Cairo', 'Siwa Oasis', 'Wadi Adventure',\n",
    "            'The Tap Maadi - Cairo', 'Paul Bakery & Cafe - Nile City Towers, Cairo', 'Cafe Tabasco - Maadi, Cairo', 'Dahab Beach', \n",
    "            \"Dunkin' Donuts - Multiple locations in Cairo\", 'Terrace Cafe & Bar, Cairo', 'Fox in a Box Egypt - Cairo', 'Fjord Bay', \n",
    "            'Gouna Yacht Club, Hurghada', 'Escape Room Egypt - Alexandria', 'El Sokhna Port', 'Cairo Festival City - Cairo', 'Bamboo Beach, Hurghada',\n",
    "            'Al-Rahmaniyah Park', 'Trapped Egypt - Cairo', 'The District Mall', 'Second Cup - Mall of Egypt, Giza', 'Espresso Lab - Maadi, Cairo',\n",
    "            'The Grand Mall', 'Wonderland Park', 'Escape Egypt - Alexandria', 'The Tap Maadi, Cairo', 'Le Chantilly - Heliopolis, Cairo', \n",
    "            'The GrEEK Campus - New Cairo, Cairo', 'Tiran Island', 'Pyramids Land', 'Darb 1718 - Cairo', 'Riddle Room Egypt - Cairo', \n",
    "            'Sun City Hurghada', 'Luxor Temple', 'Buddha-Bar Beach, Sahel', 'First Mall', 'Sun Rise Aqua Park', 'Zahran Park', 'Aqua Park Sokhna', \n",
    "            'Luxor Land', 'El Fayoum Oasis', 'The Key Egypt - Alexandria', 'Mersa Matrouh Beach', 'Al Zohour Club', 'Rio Nightclub, Sharm El Sheikh',\n",
    "            'Left Bank, Alexandria', 'Escape Key Egypt - Alexandria', 'Soho Square Sharm El Sheikh', 'The Halls Egypt - Cairo', 'Odeon Palace, Alexandria', \n",
    "            'Enchanted Escape Egypt - Cairo', 'A.S.E. Egypt - Cairo', 'The Escape Room Egypt - Cairo', 'Wunder Garten, Alexandria',\n",
    "            'TBS - Heliopolis, Cairo', 'Al Koronfel Park', 'The Great Sand Sea', 'Flee Egypt - Cairo', 'Madinaty City', 'Xroomz Egypt - Cairo', \n",
    "            'Magic Land', 'Tiba Outlet Mall', 'Alex Park', 'El Beit - Zamalek, Cairo', 'Koshari Abou Tarek, Cairo', \n",
    "            'Darb 1718 Contemporary Art and Culture Center - Cairo', 'Breakout Egypt - Alexandria', 'Fun City', 'Crazy Water Park Sokhna',\n",
    "            'Les Amis, Cairo', 'Family Land', 'Sharm Cliff Park', 'The Riddle Egypt - Cairo', 'Yalla Bina - Mohandeseen, Cairo',\n",
    "            'Caribou Coffee - Downtown Mall, Cairo', 'Al-Azhar Park', 'Project Escape Egypt - Cairo', 'The German Cultural Center - Cairo', \n",
    "            \"St. Anthony's Monastery\", 'Cinnabon Cafe - Citystars Mall, Cairo', 'Cairo International Stadium - Cairo', 'Sphinx Aqua Park', \n",
    "            'Breakout Egypt - Cairo', 'Coffee Republic - Maadi, Cairo', 'Aswan Botanical Garden', 'Rooms Egypt - Alexandria', \n",
    "            'The Escape Room Egypt - El Gouna', 'Hysteria Egypt - Cairo', 'Sky Water Park', 'La Plage, Alexandria', 'The Platform - Cairo',\n",
    "            'Code to Escape Egypt - Cairo', 'Buddha-Bar, Sahel', 'Ice Skating Rink', 'La Poire Cafe - Nasr City, Cairo',\n",
    "            'Cairo Contemporary Dance Center - Cairo', 'Buddha-Bar, Cairo']"
   ]
  },
  {
   "cell_type": "code",
   "execution_count": 7,
   "metadata": {},
   "outputs": [],
   "source": [
    "hangout_price_from = [100, 150, 200, 250, 300]\n",
    "hangout_price_to = [200, 250, 300, 350, 400]\n",
    "hangout_cuisines = ['American', 'Chinese', 'Italian', 'Mexican', 'Thai']\n",
    "hangout_ratings = [3.5, 4.0, 4.5, 3.0, 5.0]\n",
    "hangout_review_counts = [100, 200, 300, 400, 500]\n",
    "hangout_excellent_counts = [50, 75, 100, 125, 150]\n",
    "hangout_very_good_counts = [25, 50, 75, 100, 125]\n",
    "hangout_average_counts = [10, 20, 30, 40, 50]\n",
    "hangout_poor_counts = [5, 10, 15, 20, 25]\n",
    "hangout_terrible_counts = [2, 5, 8, 10, 12]"
   ]
  },
  {
   "cell_type": "code",
   "execution_count": 8,
   "metadata": {},
   "outputs": [
    {
     "ename": "ValueError",
     "evalue": "All arrays must be of the same length",
     "output_type": "error",
     "traceback": [
      "\u001b[0;31m---------------------------------------------------------------------------\u001b[0m",
      "\u001b[0;31mValueError\u001b[0m                                Traceback (most recent call last)",
      "Cell \u001b[0;32mIn[8], line 2\u001b[0m\n\u001b[1;32m      1\u001b[0m \u001b[39m# Create dataframe for hangout places\u001b[39;00m\n\u001b[0;32m----> 2\u001b[0m hangout_data \u001b[39m=\u001b[39m pd\u001b[39m.\u001b[39;49mDataFrame({\n\u001b[1;32m      3\u001b[0m     \u001b[39m'\u001b[39;49m\u001b[39mhangout_name\u001b[39;49m\u001b[39m'\u001b[39;49m: hangout_names,\n\u001b[1;32m      4\u001b[0m     \u001b[39m'\u001b[39;49m\u001b[39mprice_range_from\u001b[39;49m\u001b[39m'\u001b[39;49m: hangout_price_from,\n\u001b[1;32m      5\u001b[0m     \u001b[39m'\u001b[39;49m\u001b[39mprice_range_to\u001b[39;49m\u001b[39m'\u001b[39;49m: hangout_price_to,\n\u001b[1;32m      6\u001b[0m     \u001b[39m'\u001b[39;49m\u001b[39mcuisines\u001b[39;49m\u001b[39m'\u001b[39;49m: hangout_cuisines,\n\u001b[1;32m      7\u001b[0m     \u001b[39m'\u001b[39;49m\u001b[39mrating\u001b[39;49m\u001b[39m'\u001b[39;49m: hangout_ratings,\n\u001b[1;32m      8\u001b[0m     \u001b[39m'\u001b[39;49m\u001b[39mreview_count\u001b[39;49m\u001b[39m'\u001b[39;49m: hangout_review_counts,\n\u001b[1;32m      9\u001b[0m     \u001b[39m'\u001b[39;49m\u001b[39mexcellent_count\u001b[39;49m\u001b[39m'\u001b[39;49m: hangout_excellent_counts,\n\u001b[1;32m     10\u001b[0m     \u001b[39m'\u001b[39;49m\u001b[39mvery_good_count\u001b[39;49m\u001b[39m'\u001b[39;49m: hangout_very_good_counts,\n\u001b[1;32m     11\u001b[0m     \u001b[39m'\u001b[39;49m\u001b[39maverage_count\u001b[39;49m\u001b[39m'\u001b[39;49m: hangout_average_counts,\n\u001b[1;32m     12\u001b[0m     \u001b[39m'\u001b[39;49m\u001b[39mpoor_count\u001b[39;49m\u001b[39m'\u001b[39;49m: hangout_poor_counts,\n\u001b[1;32m     13\u001b[0m     \u001b[39m'\u001b[39;49m\u001b[39mterrible_count\u001b[39;49m\u001b[39m'\u001b[39;49m: hangout_terrible_counts\n\u001b[1;32m     14\u001b[0m })\n",
      "File \u001b[0;32m/opt/homebrew/lib/python3.11/site-packages/pandas/core/frame.py:664\u001b[0m, in \u001b[0;36mDataFrame.__init__\u001b[0;34m(self, data, index, columns, dtype, copy)\u001b[0m\n\u001b[1;32m    658\u001b[0m     mgr \u001b[39m=\u001b[39m \u001b[39mself\u001b[39m\u001b[39m.\u001b[39m_init_mgr(\n\u001b[1;32m    659\u001b[0m         data, axes\u001b[39m=\u001b[39m{\u001b[39m\"\u001b[39m\u001b[39mindex\u001b[39m\u001b[39m\"\u001b[39m: index, \u001b[39m\"\u001b[39m\u001b[39mcolumns\u001b[39m\u001b[39m\"\u001b[39m: columns}, dtype\u001b[39m=\u001b[39mdtype, copy\u001b[39m=\u001b[39mcopy\n\u001b[1;32m    660\u001b[0m     )\n\u001b[1;32m    662\u001b[0m \u001b[39melif\u001b[39;00m \u001b[39misinstance\u001b[39m(data, \u001b[39mdict\u001b[39m):\n\u001b[1;32m    663\u001b[0m     \u001b[39m# GH#38939 de facto copy defaults to False only in non-dict cases\u001b[39;00m\n\u001b[0;32m--> 664\u001b[0m     mgr \u001b[39m=\u001b[39m dict_to_mgr(data, index, columns, dtype\u001b[39m=\u001b[39;49mdtype, copy\u001b[39m=\u001b[39;49mcopy, typ\u001b[39m=\u001b[39;49mmanager)\n\u001b[1;32m    665\u001b[0m \u001b[39melif\u001b[39;00m \u001b[39misinstance\u001b[39m(data, ma\u001b[39m.\u001b[39mMaskedArray):\n\u001b[1;32m    666\u001b[0m     \u001b[39mimport\u001b[39;00m \u001b[39mnumpy\u001b[39;00m\u001b[39m.\u001b[39;00m\u001b[39mma\u001b[39;00m\u001b[39m.\u001b[39;00m\u001b[39mmrecords\u001b[39;00m \u001b[39mas\u001b[39;00m \u001b[39mmrecords\u001b[39;00m\n",
      "File \u001b[0;32m/opt/homebrew/lib/python3.11/site-packages/pandas/core/internals/construction.py:493\u001b[0m, in \u001b[0;36mdict_to_mgr\u001b[0;34m(data, index, columns, dtype, typ, copy)\u001b[0m\n\u001b[1;32m    489\u001b[0m     \u001b[39melse\u001b[39;00m:\n\u001b[1;32m    490\u001b[0m         \u001b[39m# dtype check to exclude e.g. range objects, scalars\u001b[39;00m\n\u001b[1;32m    491\u001b[0m         arrays \u001b[39m=\u001b[39m [x\u001b[39m.\u001b[39mcopy() \u001b[39mif\u001b[39;00m \u001b[39mhasattr\u001b[39m(x, \u001b[39m\"\u001b[39m\u001b[39mdtype\u001b[39m\u001b[39m\"\u001b[39m) \u001b[39melse\u001b[39;00m x \u001b[39mfor\u001b[39;00m x \u001b[39min\u001b[39;00m arrays]\n\u001b[0;32m--> 493\u001b[0m \u001b[39mreturn\u001b[39;00m arrays_to_mgr(arrays, columns, index, dtype\u001b[39m=\u001b[39;49mdtype, typ\u001b[39m=\u001b[39;49mtyp, consolidate\u001b[39m=\u001b[39;49mcopy)\n",
      "File \u001b[0;32m/opt/homebrew/lib/python3.11/site-packages/pandas/core/internals/construction.py:118\u001b[0m, in \u001b[0;36marrays_to_mgr\u001b[0;34m(arrays, columns, index, dtype, verify_integrity, typ, consolidate)\u001b[0m\n\u001b[1;32m    115\u001b[0m \u001b[39mif\u001b[39;00m verify_integrity:\n\u001b[1;32m    116\u001b[0m     \u001b[39m# figure out the index, if necessary\u001b[39;00m\n\u001b[1;32m    117\u001b[0m     \u001b[39mif\u001b[39;00m index \u001b[39mis\u001b[39;00m \u001b[39mNone\u001b[39;00m:\n\u001b[0;32m--> 118\u001b[0m         index \u001b[39m=\u001b[39m _extract_index(arrays)\n\u001b[1;32m    119\u001b[0m     \u001b[39melse\u001b[39;00m:\n\u001b[1;32m    120\u001b[0m         index \u001b[39m=\u001b[39m ensure_index(index)\n",
      "File \u001b[0;32m/opt/homebrew/lib/python3.11/site-packages/pandas/core/internals/construction.py:666\u001b[0m, in \u001b[0;36m_extract_index\u001b[0;34m(data)\u001b[0m\n\u001b[1;32m    664\u001b[0m lengths \u001b[39m=\u001b[39m \u001b[39mlist\u001b[39m(\u001b[39mset\u001b[39m(raw_lengths))\n\u001b[1;32m    665\u001b[0m \u001b[39mif\u001b[39;00m \u001b[39mlen\u001b[39m(lengths) \u001b[39m>\u001b[39m \u001b[39m1\u001b[39m:\n\u001b[0;32m--> 666\u001b[0m     \u001b[39mraise\u001b[39;00m \u001b[39mValueError\u001b[39;00m(\u001b[39m\"\u001b[39m\u001b[39mAll arrays must be of the same length\u001b[39m\u001b[39m\"\u001b[39m)\n\u001b[1;32m    668\u001b[0m \u001b[39mif\u001b[39;00m have_dicts:\n\u001b[1;32m    669\u001b[0m     \u001b[39mraise\u001b[39;00m \u001b[39mValueError\u001b[39;00m(\n\u001b[1;32m    670\u001b[0m         \u001b[39m\"\u001b[39m\u001b[39mMixing dicts with non-Series may lead to ambiguous ordering.\u001b[39m\u001b[39m\"\u001b[39m\n\u001b[1;32m    671\u001b[0m     )\n",
      "\u001b[0;31mValueError\u001b[0m: All arrays must be of the same length"
     ]
    }
   ],
   "source": [
    "# Create dataframe for hangout places\n",
    "hangout_data = pd.DataFrame({\n",
    "    'hangout_name': hangout_names,\n",
    "    'price_range_from': hangout_price_from,\n",
    "    'price_range_to': hangout_price_to,\n",
    "    'cuisines': hangout_cuisines,\n",
    "    'rating': hangout_ratings,\n",
    "    'review_count': hangout_review_counts,\n",
    "    'excellent_count': hangout_excellent_counts,\n",
    "    'very_good_count': hangout_very_good_counts,\n",
    "    'average_count': hangout_average_counts,\n",
    "    'poor_count': hangout_poor_counts,\n",
    "    'terrible_count': hangout_terrible_counts\n",
    "})"
   ]
  },
  {
   "cell_type": "code",
   "execution_count": 5,
   "metadata": {},
   "outputs": [
    {
     "ename": "ValueError",
     "evalue": "All arrays must be of the same length",
     "output_type": "error",
     "traceback": [
      "\u001b[0;31m---------------------------------------------------------------------------\u001b[0m",
      "\u001b[0;31mValueError\u001b[0m                                Traceback (most recent call last)",
      "Cell \u001b[0;32mIn[5], line 123\u001b[0m\n\u001b[1;32m    120\u001b[0m hangout_terrible_counts \u001b[39m=\u001b[39m [\u001b[39m2\u001b[39m, \u001b[39m5\u001b[39m, \u001b[39m8\u001b[39m, \u001b[39m10\u001b[39m, \u001b[39m12\u001b[39m]\n\u001b[1;32m    122\u001b[0m \u001b[39m# Create dataframe for hangout places\u001b[39;00m\n\u001b[0;32m--> 123\u001b[0m hangout_data \u001b[39m=\u001b[39m pd\u001b[39m.\u001b[39;49mDataFrame({\n\u001b[1;32m    124\u001b[0m     \u001b[39m'\u001b[39;49m\u001b[39mhangout_name\u001b[39;49m\u001b[39m'\u001b[39;49m: hangout_names,\n\u001b[1;32m    125\u001b[0m     \u001b[39m'\u001b[39;49m\u001b[39maddress\u001b[39;49m\u001b[39m'\u001b[39;49m: hangout_addresses,\n\u001b[1;32m    126\u001b[0m     \u001b[39m'\u001b[39;49m\u001b[39mphone\u001b[39;49m\u001b[39m'\u001b[39;49m: hangout_phones,\n\u001b[1;32m    127\u001b[0m     \u001b[39m'\u001b[39;49m\u001b[39mprice_range_from\u001b[39;49m\u001b[39m'\u001b[39;49m: hangout_price_from,\n\u001b[1;32m    128\u001b[0m     \u001b[39m'\u001b[39;49m\u001b[39mprice_range_to\u001b[39;49m\u001b[39m'\u001b[39;49m: hangout_price_to,\n\u001b[1;32m    129\u001b[0m     \u001b[39m'\u001b[39;49m\u001b[39mcuisines\u001b[39;49m\u001b[39m'\u001b[39;49m: hangout_cuisines,\n\u001b[1;32m    130\u001b[0m     \u001b[39m'\u001b[39;49m\u001b[39mrating\u001b[39;49m\u001b[39m'\u001b[39;49m: hangout_ratings,\n\u001b[1;32m    131\u001b[0m     \u001b[39m'\u001b[39;49m\u001b[39mreview_count\u001b[39;49m\u001b[39m'\u001b[39;49m: hangout_review_counts,\n\u001b[1;32m    132\u001b[0m     \u001b[39m'\u001b[39;49m\u001b[39mexcellent_count\u001b[39;49m\u001b[39m'\u001b[39;49m: hangout_excellent_counts,\n\u001b[1;32m    133\u001b[0m     \u001b[39m'\u001b[39;49m\u001b[39mvery_good_count\u001b[39;49m\u001b[39m'\u001b[39;49m: hangout_very_good_counts,\n\u001b[1;32m    134\u001b[0m     \u001b[39m'\u001b[39;49m\u001b[39maverage_count\u001b[39;49m\u001b[39m'\u001b[39;49m: hangout_average_counts,\n\u001b[1;32m    135\u001b[0m     \u001b[39m'\u001b[39;49m\u001b[39mpoor_count\u001b[39;49m\u001b[39m'\u001b[39;49m: hangout_poor_counts,\n\u001b[1;32m    136\u001b[0m     \u001b[39m'\u001b[39;49m\u001b[39mterrible_count\u001b[39;49m\u001b[39m'\u001b[39;49m: hangout_terrible_counts\n\u001b[1;32m    137\u001b[0m })\n\u001b[1;32m    139\u001b[0m \u001b[39m# Save dataframe to csv file\u001b[39;00m\n\u001b[1;32m    140\u001b[0m hangout_data\u001b[39m.\u001b[39mto_csv(\u001b[39m'\u001b[39m\u001b[39mhangout_data.csv\u001b[39m\u001b[39m'\u001b[39m, index\u001b[39m=\u001b[39m\u001b[39mFalse\u001b[39;00m)\n",
      "File \u001b[0;32m/opt/homebrew/lib/python3.11/site-packages/pandas/core/frame.py:664\u001b[0m, in \u001b[0;36mDataFrame.__init__\u001b[0;34m(self, data, index, columns, dtype, copy)\u001b[0m\n\u001b[1;32m    658\u001b[0m     mgr \u001b[39m=\u001b[39m \u001b[39mself\u001b[39m\u001b[39m.\u001b[39m_init_mgr(\n\u001b[1;32m    659\u001b[0m         data, axes\u001b[39m=\u001b[39m{\u001b[39m\"\u001b[39m\u001b[39mindex\u001b[39m\u001b[39m\"\u001b[39m: index, \u001b[39m\"\u001b[39m\u001b[39mcolumns\u001b[39m\u001b[39m\"\u001b[39m: columns}, dtype\u001b[39m=\u001b[39mdtype, copy\u001b[39m=\u001b[39mcopy\n\u001b[1;32m    660\u001b[0m     )\n\u001b[1;32m    662\u001b[0m \u001b[39melif\u001b[39;00m \u001b[39misinstance\u001b[39m(data, \u001b[39mdict\u001b[39m):\n\u001b[1;32m    663\u001b[0m     \u001b[39m# GH#38939 de facto copy defaults to False only in non-dict cases\u001b[39;00m\n\u001b[0;32m--> 664\u001b[0m     mgr \u001b[39m=\u001b[39m dict_to_mgr(data, index, columns, dtype\u001b[39m=\u001b[39;49mdtype, copy\u001b[39m=\u001b[39;49mcopy, typ\u001b[39m=\u001b[39;49mmanager)\n\u001b[1;32m    665\u001b[0m \u001b[39melif\u001b[39;00m \u001b[39misinstance\u001b[39m(data, ma\u001b[39m.\u001b[39mMaskedArray):\n\u001b[1;32m    666\u001b[0m     \u001b[39mimport\u001b[39;00m \u001b[39mnumpy\u001b[39;00m\u001b[39m.\u001b[39;00m\u001b[39mma\u001b[39;00m\u001b[39m.\u001b[39;00m\u001b[39mmrecords\u001b[39;00m \u001b[39mas\u001b[39;00m \u001b[39mmrecords\u001b[39;00m\n",
      "File \u001b[0;32m/opt/homebrew/lib/python3.11/site-packages/pandas/core/internals/construction.py:493\u001b[0m, in \u001b[0;36mdict_to_mgr\u001b[0;34m(data, index, columns, dtype, typ, copy)\u001b[0m\n\u001b[1;32m    489\u001b[0m     \u001b[39melse\u001b[39;00m:\n\u001b[1;32m    490\u001b[0m         \u001b[39m# dtype check to exclude e.g. range objects, scalars\u001b[39;00m\n\u001b[1;32m    491\u001b[0m         arrays \u001b[39m=\u001b[39m [x\u001b[39m.\u001b[39mcopy() \u001b[39mif\u001b[39;00m \u001b[39mhasattr\u001b[39m(x, \u001b[39m\"\u001b[39m\u001b[39mdtype\u001b[39m\u001b[39m\"\u001b[39m) \u001b[39melse\u001b[39;00m x \u001b[39mfor\u001b[39;00m x \u001b[39min\u001b[39;00m arrays]\n\u001b[0;32m--> 493\u001b[0m \u001b[39mreturn\u001b[39;00m arrays_to_mgr(arrays, columns, index, dtype\u001b[39m=\u001b[39;49mdtype, typ\u001b[39m=\u001b[39;49mtyp, consolidate\u001b[39m=\u001b[39;49mcopy)\n",
      "File \u001b[0;32m/opt/homebrew/lib/python3.11/site-packages/pandas/core/internals/construction.py:118\u001b[0m, in \u001b[0;36marrays_to_mgr\u001b[0;34m(arrays, columns, index, dtype, verify_integrity, typ, consolidate)\u001b[0m\n\u001b[1;32m    115\u001b[0m \u001b[39mif\u001b[39;00m verify_integrity:\n\u001b[1;32m    116\u001b[0m     \u001b[39m# figure out the index, if necessary\u001b[39;00m\n\u001b[1;32m    117\u001b[0m     \u001b[39mif\u001b[39;00m index \u001b[39mis\u001b[39;00m \u001b[39mNone\u001b[39;00m:\n\u001b[0;32m--> 118\u001b[0m         index \u001b[39m=\u001b[39m _extract_index(arrays)\n\u001b[1;32m    119\u001b[0m     \u001b[39melse\u001b[39;00m:\n\u001b[1;32m    120\u001b[0m         index \u001b[39m=\u001b[39m ensure_index(index)\n",
      "File \u001b[0;32m/opt/homebrew/lib/python3.11/site-packages/pandas/core/internals/construction.py:666\u001b[0m, in \u001b[0;36m_extract_index\u001b[0;34m(data)\u001b[0m\n\u001b[1;32m    664\u001b[0m lengths \u001b[39m=\u001b[39m \u001b[39mlist\u001b[39m(\u001b[39mset\u001b[39m(raw_lengths))\n\u001b[1;32m    665\u001b[0m \u001b[39mif\u001b[39;00m \u001b[39mlen\u001b[39m(lengths) \u001b[39m>\u001b[39m \u001b[39m1\u001b[39m:\n\u001b[0;32m--> 666\u001b[0m     \u001b[39mraise\u001b[39;00m \u001b[39mValueError\u001b[39;00m(\u001b[39m\"\u001b[39m\u001b[39mAll arrays must be of the same length\u001b[39m\u001b[39m\"\u001b[39m)\n\u001b[1;32m    668\u001b[0m \u001b[39mif\u001b[39;00m have_dicts:\n\u001b[1;32m    669\u001b[0m     \u001b[39mraise\u001b[39;00m \u001b[39mValueError\u001b[39;00m(\n\u001b[1;32m    670\u001b[0m         \u001b[39m\"\u001b[39m\u001b[39mMixing dicts with non-Series may lead to ambiguous ordering.\u001b[39m\u001b[39m\"\u001b[39m\n\u001b[1;32m    671\u001b[0m     )\n",
      "\u001b[0;31mValueError\u001b[0m: All arrays must be of the same length"
     ]
    }
   ],
   "source": [
    "\n",
    "print(len(list_name))\n",
    "\n",
    "# Create dataframe for hangout places\n",
    "hangout_data = pd.DataFrame({\n",
    "    'hangout_name': hangout_names,\n",
    "    'address': hangout_addresses,\n",
    "    'phone': hangout_phones,\n",
    "    'price_range_from': hangout_price_from,\n",
    "    'price_range_to': hangout_price_to,\n",
    "    'cuisines': hangout_cuisines,\n",
    "    'rating': hangout_ratings,\n",
    "    'review_count': hangout_review_counts,\n",
    "    'excellent_count': hangout_excellent_counts,\n",
    "    'very_good_count': hangout_very_good_counts,\n",
    "    'average_count': hangout_average_counts,\n",
    "    'poor_count': hangout_poor_counts,\n",
    "    'terrible_count': hangout_terrible_counts\n",
    "})\n",
    "\n",
    "# Save dataframe to csv file\n",
    "hangout_data.to_csv('hangout_data.csv', index=False)\n"
   ]
  },
  {
   "cell_type": "code",
   "execution_count": 4,
   "metadata": {},
   "outputs": [],
   "source": [
    "import pandas as pd\n",
    "import random\n",
    "\n",
    "# Create fake data for hangout places\n",
    "n_hangouts = 50 # Change this to the number of hangout places you want to create\n",
    "hangout_data = []\n",
    "for i in range(n_hangouts):\n",
    "    hangout_id = i + 1\n",
    "    hangout_name = f\"Hangout Place {hangout_id}\"\n",
    "    description = f\"This is a description of Hangout Place {hangout_id}.\"\n",
    "    category = random.choice(['cafe', 'restaurant', 'bar', 'club'])\n",
    "    latitude = round(random.uniform(37.0, 38.0), 6)\n",
    "    longitude = round(random.uniform(-122.0, -121.0), 6)\n",
    "    hangout_data.append([hangout_id, hangout_name, description, category, latitude, longitude])\n",
    "\n",
    "# Convert the data to a Pandas DataFrame\n",
    "hangout_data = pd.DataFrame(hangout_data, columns=['hangout_id', 'hangout_name', 'description', 'category', 'latitude', 'longitude'])\n",
    "\n",
    "# Save the data to a CSV file\n",
    "hangout_data.to_csv('hangout_data2.csv', index=False)\n"
   ]
  },
  {
   "cell_type": "code",
   "execution_count": 3,
   "metadata": {},
   "outputs": [],
   "source": [
    "import pandas as pd\n",
    "import numpy as np\n",
    "\n",
    "# Define the hangout places and their descriptions\n",
    "hotel_places = ['Grand Hotel', 'Family Park', 'KFC', 'Central Library', 'City Museum', 'Sports Stadium']\n",
    "hotel_descriptions = ['Luxurious hotel with top-notch amenities', 'Beautiful park with family-friendly attractions', 'Fast food restaurant with a variety of menu items', 'Large library with extensive book collection', 'Museum showcasing the history and culture of the city', 'Stadium for sports enthusiasts']\n",
    "\n",
    "park_places = ['Arab Stadium - Alexandria', 'Mugg & Bean - Zamalek, Cairo', 'Exit Plan Egypt - Cairo', 'Green Valley', \"L'Oasis, Cairo\"]\n",
    "park_descriptions = ['Sports stadium with world-class facilities', 'Café with a cozy atmosphere and great food', 'Escape room game center with challenging puzzles', 'Large park with scenic views and walking trails', 'Restaurant with authentic Egyptian cuisine']\n",
    "\n",
    "# Create the hangout places dataframe\n",
    "hangout_places = pd.DataFrame({\n",
    "    'hangout_name': hotel_places + park_places,\n",
    "    'description': hotel_descriptions + park_descriptions,\n",
    "    'category': ['hotel'] * len(hotel_places) + ['park'] * len(park_places)\n",
    "})\n",
    "\n",
    "# Save the hangout places dataframe to a CSV file\n",
    "hangout_places.to_csv('hangout_data1.csv', index=False)"
   ]
  },
  {
   "cell_type": "code",
=======
>>>>>>> 4fa576feee51de24c491b8e8788ab94c0c67101c
   "execution_count": 1,
   "metadata": {},
   "outputs": [],
   "source": [
    "import pandas as pd\n",
<<<<<<< HEAD
    "import random\n",
    "\n",
    "# Define the number of hangoutplaces and users\n",
    "num_hangoutplaces = 100\n",
    "num_users = 10\n",
    "\n",
    "# Define the possible categories for the hangoutplaces\n",
    "categories = ['Cafe', 'Restaurant', 'Bar', 'Club', 'Park', 'Museum', 'Gallery']\n",
    "\n",
    "# Create a list of fake hangoutplace names\n",
    "hangoutplace_names = []\n",
    "for i in range(num_hangoutplaces):\n",
    "    name = f\"Hangoutplace {i+1}\"\n",
    "    hangoutplace_names.append(name)\n",
    "\n",
    "# Create a list of fake hangoutplace categories\n",
    "hangoutplace_categories = random.choices(categories, k=num_hangoutplaces)\n",
    "\n",
    "# Create a list of fake hangoutplace descriptions\n",
    "hangoutplace_descriptions = []\n",
    "for i in range(num_hangoutplaces):\n",
    "    description = f\"This is a {categories[i%len(categories)]} where you can hangout and have fun with friends.\"\n",
    "    hangoutplace_descriptions.append(description)\n",
    "\n",
    "# Create a dataframe for the hangoutplaces\n",
    "hangout_data = pd.DataFrame({\n",
    "    'hangout_id': range(1, num_hangoutplaces+1),\n",
    "    'hangout_name': hangoutplace_names,\n",
    "    'category': hangoutplace_categories,\n",
    "    'description': hangoutplace_descriptions\n",
    "})\n",
    "\n",
    "# Create a list of fake user ids\n",
    "user_ids = []\n",
    "for i in range(num_users):\n",
    "    user_id = f\"User {i+1}\"\n",
    "    user_ids.append(user_id)\n",
    "\n",
    "# Create a dataframe for the users\n",
    "user_data = pd.DataFrame({\n",
    "    'user_id': user_ids\n",
    "})\n",
    "\n",
    "# Save the dataframes to csv files\n",
    "hangout_data.to_csv('hangout_data.csv', index=False)\n",
    "user_data.to_csv('user_data.csv', index=False)\n"
   ]
  },
  {
   "cell_type": "code",
   "execution_count": 1,
   "metadata": {},
   "outputs": [
    {
     "ename": "SyntaxError",
     "evalue": "invalid syntax (2808889211.py, line 27)",
     "output_type": "error",
     "traceback": [
      "\u001b[0;36m  Cell \u001b[0;32mIn[1], line 27\u001b[0;36m\u001b[0m\n\u001b[0;31m    if it from Hotel_places put the place_types = Hotel\u001b[0m\n\u001b[0m          ^\u001b[0m\n\u001b[0;31mSyntaxError\u001b[0m\u001b[0;31m:\u001b[0m invalid syntax\n"
     ]
    }
   ],
   "source": [
    "import random\n",
    "\n",
    "# define the list of places and their types\n",
    "Hotel_places = ['Grand Hotel', 'Family Park', 'KFC', 'Central Library', 'City Museum', 'Sports Stadium']\n",
    "Park_places = [' Arab Stadium - Alexandria', 'Mugg & Bean - Zamalek, Cairo', 'Exit Plan Egypt - Cairo', 'Green Valley', \"L'Oasis, Cairo\",\n",
    "            'The Nile Ritz-Carlton Spa - Cairo', 'Sufi - Zamalek, Cairo', 'The Swedish Institute - Alexandria', 'Cafe Supreme - Zamalek, Cairo', \n",
    "            'The Tap Maadi Street 231, Cairo', 'Mall of Egypt - Cairo', 'Al Marassi Beach', 'The Bistro, Cairo', \"Lock'n'Load Egypt - Cairo\", \n",
    "            'Montaza Palace Gardens', 'Exit Egypt - Cairo', 'Al-Masah Hotel and Spa', 'King Tut Aqua Park', 'Indigo, Cairo', \n",
    "            \"Seagull Beach Bar, HurghadaHarry's Pub, Alexandria\", 'The Room Egypt - Giza', 'Mall of Egypt', 'El Dammah Theater - Cairo', \n",
    "            'Serapium Forest', 'Coffee Lounge - Zamalek, Cairo', 'CinnZeo Bakery Cafe - Mall of Egypt, Giza', 'Paradox Egypt - Cairo', \n",
    "            'Alf Leila Wa Leila', 'Break Egypt - Cairo', 'Jungle Park', '24K, Cairo', 'Happy Land', 'Al Khazan Park', 'Oyoun Mousa', \n",
    "            'The Magnolia Hall - Cairo', 'Nile City Towers', 'Breakout Egypt - Sharm El Sheikh', 'Ghibli Raceway', 'The Tap Downtown, Cairo', \n",
    "            'Escape House Egypt - Cairo', 'Gardenia Cafe - Maadi, Cairo', 'Cairo Jazz Club, Cairo', 'Sun Aqua Park', 'The Backyard, Cairo', \n",
    "            'Mince - New Cairo, Cairo', 'La Bodega, Cairo', 'The Terrace, Cairo', \"Harry's Pub, Cairo\", 'Alexandria City Center', 'El-Tor Beach',\n",
    "            'Dolphin Park', 'The Greek Club - Alexandria', 'Aqua Blu Sharm El Sheikh', 'Sky Roof Bar & Lounge, Alexandria', \n",
    "            'Sofitel Cairo Nile El Gezirah - Cairo', 'El Genaina Theatre - Cairo', 'Rawabet Theater - Cairo', 'Siwa Oasis', 'Wadi Adventure',\n",
    "            'The Tap Maadi - Cairo', 'Paul Bakery & Cafe - Nile City Towers, Cairo', 'Cafe Tabasco - Maadi, Cairo', 'Dahab Beach', \n",
    "            \"Dunkin' Donuts - Multiple locations in Cairo\", 'Terrace Cafe & Bar, Cairo', 'Fox in a Box Egypt - Cairo', 'Fjord Bay', \n",
    "            'Gouna Yacht Club, Hurghada', 'Escape Room Egypt - Alexandria', 'El Sokhna Port', 'Cairo Festival City - Cairo', 'Bamboo Beach, Hurghada',\n",
    "            'Al-Rahmaniyah Park', 'Trapped Egypt - Cairo', 'The District Mall', 'Second Cup - Mall of Egypt, Giza', 'Espresso Lab - Maadi, Cairo',\n",
    "            'The Grand Mall', 'Wonderland Park', 'Escape Egypt - Alexandria', 'The Tap Maadi, Cairo', 'Le Chantilly - Heliopolis, Cairo', \n",
    "            'The GrEEK Campus - New Cairo, Cairo', 'Tiran Island', 'Pyramids Land', 'Darb 1718 - Cairo', 'Riddle Room Egypt - Cairo', \n",
    "            'Sun City Hurghada', 'Luxor Temple', 'Buddha-Bar Beach, Sahel', 'First Mall', 'Sun Rise Aqua Park', 'Zahran Park', 'Aqua Park Sokhna', \n",
    "            'Luxor Land', 'El Fayoum Oasis', 'The Key Egypt - Alexandria', 'Mersa Matrouh Beach', 'Al Zohour Club', 'Rio Nightclub, Sharm El Sheikh',\n",
    "            'Left Bank, Alexandria', 'Escape Key Egypt - Alexandria', 'Soho Square Sharm El Sheikh', 'The Halls Egypt - Cairo', 'Odeon Palace, Alexandria', \n",
    "            'Enchanted Escape Egypt - Cairo', 'A.S.E. Egypt ']\n",
    "if it from Hotel_places put the place_types = Hotel\n",
    "place_types = ['Hotel', 'Park', 'Restaurant', 'Library', 'Museum', 'Stadium']\n",
    "\n",
    "# create an empty list to hold the dataset\n",
    "dataset = []\n",
    "\n",
    "# generate a random number of data points between 10 and 20\n",
    "num_data_points = random.randint(10, 20)\n",
    "\n",
    "# randomly assign a place type to each place and add it to the dataset\n",
    "for i in range(num_data_points):\n",
    "    place = random.choice(places)\n",
    "    place_type = place_types[places.index(place)]\n",
    "    dataset.append((place, place_type))\n",
    "\n",
    "# print the dataset\n",
    "print(dataset)\n"
   ]
  },
  {
   "cell_type": "code",
   "execution_count": 1,
   "metadata": {},
   "outputs": [
    {
     "name": "stdout",
     "output_type": "stream",
     "text": [
      "Requirement already satisfied: pandas in /Library/Frameworks/Python.framework/Versions/3.11/lib/python3.11/site-packages (2.0.0)\n",
      "Requirement already satisfied: python-dateutil>=2.8.2 in /Users/rewanabdelqader/Library/Python/3.11/lib/python/site-packages (from pandas) (2.8.2)\n",
      "Requirement already satisfied: pytz>=2020.1 in /Library/Frameworks/Python.framework/Versions/3.11/lib/python3.11/site-packages (from pandas) (2023.3)\n",
      "Requirement already satisfied: tzdata>=2022.1 in /Library/Frameworks/Python.framework/Versions/3.11/lib/python3.11/site-packages (from pandas) (2023.3)\n",
      "Requirement already satisfied: numpy>=1.21.0 in /Library/Frameworks/Python.framework/Versions/3.11/lib/python3.11/site-packages (from pandas) (1.24.2)\n",
      "Requirement already satisfied: six>=1.5 in /Users/rewanabdelqader/Library/Python/3.11/lib/python/site-packages (from python-dateutil>=2.8.2->pandas) (1.16.0)\n",
      "Note: you may need to restart the kernel to use updated packages.\n"
     ]
    }
   ],
   "source": [
    "pip install pandas"
   ]
  },
  {
   "cell_type": "code",
   "execution_count": 2,
   "metadata": {},
   "outputs": [
    {
     "name": "stdout",
     "output_type": "stream",
     "text": [
      "Collecting openpyxl\n",
      "  Downloading openpyxl-3.1.2-py2.py3-none-any.whl (249 kB)\n",
      "\u001b[2K     \u001b[90m━━━━━━━━━━━━━━━━━━━━━━━━━━━━━━━━━━━━━━━\u001b[0m \u001b[32m250.0/250.0 kB\u001b[0m \u001b[31m1.3 MB/s\u001b[0m eta \u001b[36m0:00:00\u001b[0m00:01\u001b[0m00:01\u001b[0m\n",
      "\u001b[?25hCollecting et-xmlfile (from openpyxl)\n",
      "  Using cached et_xmlfile-1.1.0-py3-none-any.whl (4.7 kB)\n",
      "Installing collected packages: et-xmlfile, openpyxl\n",
      "Successfully installed et-xmlfile-1.1.0 openpyxl-3.1.2\n",
      "Note: you may need to restart the kernel to use updated packages.\n"
     ]
    }
   ],
   "source": [
    "pip install openpyxl"
   ]
  },
  {
   "cell_type": "code",
   "execution_count": 3,
   "metadata": {},
   "outputs": [],
   "source": [
    "import pandas as pd\n",
=======
>>>>>>> 4fa576feee51de24c491b8e8788ab94c0c67101c
    "from openpyxl import load_workbook"
   ]
  },
  {
   "cell_type": "code",
<<<<<<< HEAD
   "execution_count": 7,
   "metadata": {},
   "outputs": [
    {
     "ename": "FileNotFoundError",
     "evalue": "[Errno 2] No such file or directory: '/Users/rewanabdelqader/Collage/Semster 8/Graduation_Project/DS/Booking History.csv'",
     "output_type": "error",
     "traceback": [
      "\u001b[0;31m---------------------------------------------------------------------------\u001b[0m",
      "\u001b[0;31mFileNotFoundError\u001b[0m                         Traceback (most recent call last)",
      "Cell \u001b[0;32mIn[7], line 1\u001b[0m\n\u001b[0;32m----> 1\u001b[0m booking_history \u001b[39m=\u001b[39m pd\u001b[39m.\u001b[39;49mread_csv(\u001b[39m\"\u001b[39;49m\u001b[39m/Users/rewanabdelqader/Collage/Semster 8/Graduation_Project/DS/Booking History.csv\u001b[39;49m\u001b[39m\"\u001b[39;49m)\n\u001b[1;32m      2\u001b[0m search_history \u001b[39m=\u001b[39m pd\u001b[39m.\u001b[39mread_csv(\u001b[39m'\u001b[39m\u001b[39m/Users/rewanabdelqader/Collage/Semster 8/Graduation_Project/DS/Intersts.csv\u001b[39m\u001b[39m'\u001b[39m)\n\u001b[1;32m      3\u001b[0m reviews \u001b[39m=\u001b[39m pd\u001b[39m.\u001b[39mread_csv(\u001b[39m'\u001b[39m\u001b[39m/Users/rewanabdelqader/Collage/Semster 8/Graduation_Project/DS/Reviews.csv\u001b[39m\u001b[39m'\u001b[39m)\n",
      "File \u001b[0;32m/Library/Frameworks/Python.framework/Versions/3.11/lib/python3.11/site-packages/pandas/io/parsers/readers.py:912\u001b[0m, in \u001b[0;36mread_csv\u001b[0;34m(filepath_or_buffer, sep, delimiter, header, names, index_col, usecols, dtype, engine, converters, true_values, false_values, skipinitialspace, skiprows, skipfooter, nrows, na_values, keep_default_na, na_filter, verbose, skip_blank_lines, parse_dates, infer_datetime_format, keep_date_col, date_parser, date_format, dayfirst, cache_dates, iterator, chunksize, compression, thousands, decimal, lineterminator, quotechar, quoting, doublequote, escapechar, comment, encoding, encoding_errors, dialect, on_bad_lines, delim_whitespace, low_memory, memory_map, float_precision, storage_options, dtype_backend)\u001b[0m\n\u001b[1;32m    899\u001b[0m kwds_defaults \u001b[39m=\u001b[39m _refine_defaults_read(\n\u001b[1;32m    900\u001b[0m     dialect,\n\u001b[1;32m    901\u001b[0m     delimiter,\n\u001b[0;32m   (...)\u001b[0m\n\u001b[1;32m    908\u001b[0m     dtype_backend\u001b[39m=\u001b[39mdtype_backend,\n\u001b[1;32m    909\u001b[0m )\n\u001b[1;32m    910\u001b[0m kwds\u001b[39m.\u001b[39mupdate(kwds_defaults)\n\u001b[0;32m--> 912\u001b[0m \u001b[39mreturn\u001b[39;00m _read(filepath_or_buffer, kwds)\n",
      "File \u001b[0;32m/Library/Frameworks/Python.framework/Versions/3.11/lib/python3.11/site-packages/pandas/io/parsers/readers.py:577\u001b[0m, in \u001b[0;36m_read\u001b[0;34m(filepath_or_buffer, kwds)\u001b[0m\n\u001b[1;32m    574\u001b[0m _validate_names(kwds\u001b[39m.\u001b[39mget(\u001b[39m\"\u001b[39m\u001b[39mnames\u001b[39m\u001b[39m\"\u001b[39m, \u001b[39mNone\u001b[39;00m))\n\u001b[1;32m    576\u001b[0m \u001b[39m# Create the parser.\u001b[39;00m\n\u001b[0;32m--> 577\u001b[0m parser \u001b[39m=\u001b[39m TextFileReader(filepath_or_buffer, \u001b[39m*\u001b[39;49m\u001b[39m*\u001b[39;49mkwds)\n\u001b[1;32m    579\u001b[0m \u001b[39mif\u001b[39;00m chunksize \u001b[39mor\u001b[39;00m iterator:\n\u001b[1;32m    580\u001b[0m     \u001b[39mreturn\u001b[39;00m parser\n",
      "File \u001b[0;32m/Library/Frameworks/Python.framework/Versions/3.11/lib/python3.11/site-packages/pandas/io/parsers/readers.py:1407\u001b[0m, in \u001b[0;36mTextFileReader.__init__\u001b[0;34m(self, f, engine, **kwds)\u001b[0m\n\u001b[1;32m   1404\u001b[0m     \u001b[39mself\u001b[39m\u001b[39m.\u001b[39moptions[\u001b[39m\"\u001b[39m\u001b[39mhas_index_names\u001b[39m\u001b[39m\"\u001b[39m] \u001b[39m=\u001b[39m kwds[\u001b[39m\"\u001b[39m\u001b[39mhas_index_names\u001b[39m\u001b[39m\"\u001b[39m]\n\u001b[1;32m   1406\u001b[0m \u001b[39mself\u001b[39m\u001b[39m.\u001b[39mhandles: IOHandles \u001b[39m|\u001b[39m \u001b[39mNone\u001b[39;00m \u001b[39m=\u001b[39m \u001b[39mNone\u001b[39;00m\n\u001b[0;32m-> 1407\u001b[0m \u001b[39mself\u001b[39m\u001b[39m.\u001b[39m_engine \u001b[39m=\u001b[39m \u001b[39mself\u001b[39;49m\u001b[39m.\u001b[39;49m_make_engine(f, \u001b[39mself\u001b[39;49m\u001b[39m.\u001b[39;49mengine)\n",
      "File \u001b[0;32m/Library/Frameworks/Python.framework/Versions/3.11/lib/python3.11/site-packages/pandas/io/parsers/readers.py:1661\u001b[0m, in \u001b[0;36mTextFileReader._make_engine\u001b[0;34m(self, f, engine)\u001b[0m\n\u001b[1;32m   1659\u001b[0m     \u001b[39mif\u001b[39;00m \u001b[39m\"\u001b[39m\u001b[39mb\u001b[39m\u001b[39m\"\u001b[39m \u001b[39mnot\u001b[39;00m \u001b[39min\u001b[39;00m mode:\n\u001b[1;32m   1660\u001b[0m         mode \u001b[39m+\u001b[39m\u001b[39m=\u001b[39m \u001b[39m\"\u001b[39m\u001b[39mb\u001b[39m\u001b[39m\"\u001b[39m\n\u001b[0;32m-> 1661\u001b[0m \u001b[39mself\u001b[39m\u001b[39m.\u001b[39mhandles \u001b[39m=\u001b[39m get_handle(\n\u001b[1;32m   1662\u001b[0m     f,\n\u001b[1;32m   1663\u001b[0m     mode,\n\u001b[1;32m   1664\u001b[0m     encoding\u001b[39m=\u001b[39;49m\u001b[39mself\u001b[39;49m\u001b[39m.\u001b[39;49moptions\u001b[39m.\u001b[39;49mget(\u001b[39m\"\u001b[39;49m\u001b[39mencoding\u001b[39;49m\u001b[39m\"\u001b[39;49m, \u001b[39mNone\u001b[39;49;00m),\n\u001b[1;32m   1665\u001b[0m     compression\u001b[39m=\u001b[39;49m\u001b[39mself\u001b[39;49m\u001b[39m.\u001b[39;49moptions\u001b[39m.\u001b[39;49mget(\u001b[39m\"\u001b[39;49m\u001b[39mcompression\u001b[39;49m\u001b[39m\"\u001b[39;49m, \u001b[39mNone\u001b[39;49;00m),\n\u001b[1;32m   1666\u001b[0m     memory_map\u001b[39m=\u001b[39;49m\u001b[39mself\u001b[39;49m\u001b[39m.\u001b[39;49moptions\u001b[39m.\u001b[39;49mget(\u001b[39m\"\u001b[39;49m\u001b[39mmemory_map\u001b[39;49m\u001b[39m\"\u001b[39;49m, \u001b[39mFalse\u001b[39;49;00m),\n\u001b[1;32m   1667\u001b[0m     is_text\u001b[39m=\u001b[39;49mis_text,\n\u001b[1;32m   1668\u001b[0m     errors\u001b[39m=\u001b[39;49m\u001b[39mself\u001b[39;49m\u001b[39m.\u001b[39;49moptions\u001b[39m.\u001b[39;49mget(\u001b[39m\"\u001b[39;49m\u001b[39mencoding_errors\u001b[39;49m\u001b[39m\"\u001b[39;49m, \u001b[39m\"\u001b[39;49m\u001b[39mstrict\u001b[39;49m\u001b[39m\"\u001b[39;49m),\n\u001b[1;32m   1669\u001b[0m     storage_options\u001b[39m=\u001b[39;49m\u001b[39mself\u001b[39;49m\u001b[39m.\u001b[39;49moptions\u001b[39m.\u001b[39;49mget(\u001b[39m\"\u001b[39;49m\u001b[39mstorage_options\u001b[39;49m\u001b[39m\"\u001b[39;49m, \u001b[39mNone\u001b[39;49;00m),\n\u001b[1;32m   1670\u001b[0m )\n\u001b[1;32m   1671\u001b[0m \u001b[39massert\u001b[39;00m \u001b[39mself\u001b[39m\u001b[39m.\u001b[39mhandles \u001b[39mis\u001b[39;00m \u001b[39mnot\u001b[39;00m \u001b[39mNone\u001b[39;00m\n\u001b[1;32m   1672\u001b[0m f \u001b[39m=\u001b[39m \u001b[39mself\u001b[39m\u001b[39m.\u001b[39mhandles\u001b[39m.\u001b[39mhandle\n",
      "File \u001b[0;32m/Library/Frameworks/Python.framework/Versions/3.11/lib/python3.11/site-packages/pandas/io/common.py:859\u001b[0m, in \u001b[0;36mget_handle\u001b[0;34m(path_or_buf, mode, encoding, compression, memory_map, is_text, errors, storage_options)\u001b[0m\n\u001b[1;32m    854\u001b[0m \u001b[39melif\u001b[39;00m \u001b[39misinstance\u001b[39m(handle, \u001b[39mstr\u001b[39m):\n\u001b[1;32m    855\u001b[0m     \u001b[39m# Check whether the filename is to be opened in binary mode.\u001b[39;00m\n\u001b[1;32m    856\u001b[0m     \u001b[39m# Binary mode does not support 'encoding' and 'newline'.\u001b[39;00m\n\u001b[1;32m    857\u001b[0m     \u001b[39mif\u001b[39;00m ioargs\u001b[39m.\u001b[39mencoding \u001b[39mand\u001b[39;00m \u001b[39m\"\u001b[39m\u001b[39mb\u001b[39m\u001b[39m\"\u001b[39m \u001b[39mnot\u001b[39;00m \u001b[39min\u001b[39;00m ioargs\u001b[39m.\u001b[39mmode:\n\u001b[1;32m    858\u001b[0m         \u001b[39m# Encoding\u001b[39;00m\n\u001b[0;32m--> 859\u001b[0m         handle \u001b[39m=\u001b[39m \u001b[39mopen\u001b[39;49m(\n\u001b[1;32m    860\u001b[0m             handle,\n\u001b[1;32m    861\u001b[0m             ioargs\u001b[39m.\u001b[39;49mmode,\n\u001b[1;32m    862\u001b[0m             encoding\u001b[39m=\u001b[39;49mioargs\u001b[39m.\u001b[39;49mencoding,\n\u001b[1;32m    863\u001b[0m             errors\u001b[39m=\u001b[39;49merrors,\n\u001b[1;32m    864\u001b[0m             newline\u001b[39m=\u001b[39;49m\u001b[39m\"\u001b[39;49m\u001b[39m\"\u001b[39;49m,\n\u001b[1;32m    865\u001b[0m         )\n\u001b[1;32m    866\u001b[0m     \u001b[39melse\u001b[39;00m:\n\u001b[1;32m    867\u001b[0m         \u001b[39m# Binary mode\u001b[39;00m\n\u001b[1;32m    868\u001b[0m         handle \u001b[39m=\u001b[39m \u001b[39mopen\u001b[39m(handle, ioargs\u001b[39m.\u001b[39mmode)\n",
      "\u001b[0;31mFileNotFoundError\u001b[0m: [Errno 2] No such file or directory: '/Users/rewanabdelqader/Collage/Semster 8/Graduation_Project/DS/Booking History.csv'"
     ]
    }
   ],
   "source": [
    "booking_history = pd.read_csv(\"/Users/rewanabdelqader/Collage/Semster 8/Graduation_Project/DS/Booking History.csv\")\n",
    "search_history = pd.read_csv('/Users/rewanabdelqader/Collage/Semster 8/Graduation_Project/DS/Intersts.csv')\n",
    "reviews = pd.read_csv('/Users/rewanabdelqader/Collage/Semster 8/Graduation_Project/DS/Reviews.csv')\n",
    "interests = pd.read_csv('/Users/rewanabdelqader/Collage/Semster 8/Graduation_Project/DS/Search History.csv')"
   ]
  },
  {
   "attachments": {},
   "cell_type": "markdown",
   "metadata": {},
   "source": [
    "Merge the data on the common columns"
=======
   "execution_count": 2,
   "metadata": {},
   "outputs": [],
   "source": [
    "booking_history = pd.read_csv('/Users/rewanabdelqader/Collage/Semster 8/Graduation Project/DS/Booking History.csv')\n",
    "search_history = pd.read_csv('/Users/rewanabdelqader/Collage/Semster 8/Graduation Project/DS/Intersts.csv')\n",
    "reviews = pd.read_csv('/Users/rewanabdelqader/Collage/Semster 8/Graduation Project/DS/Reviews.csv')\n",
    "interests = pd.read_csv('/Users/rewanabdelqader/Collage/Semster 8/Graduation Project/DS/Search History.csv')"
>>>>>>> 4fa576feee51de24c491b8e8788ab94c0c67101c
   ]
  },
  {
   "cell_type": "code",
   "execution_count": 3,
   "metadata": {},
   "outputs": [],
   "source": [
<<<<<<< HEAD
    "\n",
    "user_data = pd.merge(booking_history, search_history, on='User ID')\n",
    "user_data = pd.merge(user_data, reviews, on='User ID')\n",
    "user_data = pd.merge(user_data, interests, on='User ID')\n",
    "user_data = pd.merge(user_data, user_data[['Hangout Place']], on='Hangout Place')\n"
=======
    "user_data = pd.merge(booking_history, search_history, on='User ID')\n",
    "user_data = pd.merge(user_data, reviews, on='User ID')\n",
    "user_data = pd.merge(user_data, interests, on='User ID')"
>>>>>>> 4fa576feee51de24c491b8e8788ab94c0c67101c
   ]
  },
  {
   "cell_type": "code",
   "execution_count": 2,
   "metadata": {},
   "outputs": [
    {
     "ename": "NameError",
     "evalue": "name 'pd' is not defined",
     "output_type": "error",
     "traceback": [
      "\u001b[0;31m---------------------------------------------------------------------------\u001b[0m",
      "\u001b[0;31mNameError\u001b[0m                                 Traceback (most recent call last)",
      "\u001b[0;32m/var/folders/2s/0csdzgrs4gs5qz5648kq8qtr0000gn/T/ipykernel_15838/2117127681.py\u001b[0m in \u001b[0;36m<module>\u001b[0;34m\u001b[0m\n\u001b[0;32m----> 1\u001b[0;31m \u001b[0muser_data\u001b[0m \u001b[0;34m=\u001b[0m \u001b[0mpd\u001b[0m\u001b[0;34m.\u001b[0m\u001b[0mmerge\u001b[0m\u001b[0;34m(\u001b[0m\u001b[0muser_data\u001b[0m\u001b[0;34m,\u001b[0m \u001b[0muser_data\u001b[0m\u001b[0;34m,\u001b[0m \u001b[0mon\u001b[0m\u001b[0;34m=\u001b[0m\u001b[0;34m'Hangout Place'\u001b[0m\u001b[0;34m)\u001b[0m\u001b[0;34m\u001b[0m\u001b[0;34m\u001b[0m\u001b[0m\n\u001b[0m",
      "\u001b[0;31mNameError\u001b[0m: name 'pd' is not defined"
     ]
    }
   ],
   "source": [
    "user_data = pd.merge(user_data, user_data, on='Hangout Place')"
   ]
  },
  {
   "cell_type": "code",
   "execution_count": null,
   "metadata": {},
   "outputs": [
    {
     "name": "stdout",
     "output_type": "stream",
     "text": [
      "Synthetic data exported to Usre Data.csv\n"
     ]
    }
   ],
   "source": [
    "import os\n",
    "import csv\n",
    "\n",
    "# Set the current working directory to a directory where you have write permissions\n",
    "os.chdir('/Users/rewanabdelqader/Collage/Semster 8/Graduation Project/DS')\n",
    "from datetime import datetime, timedelta\n",
    "filename = 'Usre Data.csv'\n",
    "with open(filename, mode='w', newline='') as file:\n",
    "\n",
    "    # Create a writer object\n",
    "    writer = csv.writer(file)\n",
    "\n",
    "    # Write the header row\n",
    "    writer.writerow(['User ID', 'visited Hangout Place', 'Date', 'Time', 'Number of People','Interest 1','Interest 2','Interest 3','Interest 4','Interest 5','Interest 6','Interest 7','Interest 8','Interest 9','Interest 10','Interest 11','Interest 12','Interest 13','Search Hangout Place','Rate','review',])\n",
    "\n",
    "    # Create a writer object\n",
    "\n",
    "    # Write the header row\n",
    "    writer.writeheader()\n",
    "\n",
    "    # Write the data rows\n",
    "    #for row in user_data:\n",
    "        #writer.writerow(row)\n",
    "\n",
    "print(f\"Synthetic data exported to {filename}\")"
   ]
  },
  {
   "cell_type": "code",
   "execution_count": null,
   "metadata": {},
   "outputs": [],
   "source": []
  }
 ],
 "metadata": {
  "interpreter": {
   "hash": "40d3a090f54c6569ab1632332b64b2c03c39dcf918b08424e98f38b5ae0af88f"
  },
  "kernelspec": {
   "display_name": "Python 3.9.13 ('base')",
   "language": "python",
   "name": "python3"
  },
  "language_info": {
   "codemirror_mode": {
    "name": "ipython",
    "version": 3
   },
   "file_extension": ".py",
   "mimetype": "text/x-python",
   "name": "python",
   "nbconvert_exporter": "python",
   "pygments_lexer": "ipython3",
<<<<<<< HEAD
   "version": "3.11.2"
=======
   "version": "3.9.13"
>>>>>>> 4fa576feee51de24c491b8e8788ab94c0c67101c
  },
  "orig_nbformat": 4,
  "vscode": {
   "interpreter": {
    "hash": "40d3a090f54c6569ab1632332b64b2c03c39dcf918b08424e98f38b5ae0af88f"
   }
  }
 },
 "nbformat": 4,
 "nbformat_minor": 2
}
