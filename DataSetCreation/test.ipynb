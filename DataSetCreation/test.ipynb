{
 "cells": [
  {
   "cell_type": "code",
   "execution_count": 1,
   "metadata": {},
   "outputs": [],
   "source": [
    "import pandas as pd\n",
    "from openpyxl import load_workbook"
   ]
  },
  {
   "cell_type": "code",
   "execution_count": 2,
   "metadata": {},
   "outputs": [],
   "source": [
    "booking_history = pd.read_csv('/Users/rewanabdelqader/Collage/Semster 8/Graduation Project/DS/Booking History.csv')\n",
    "search_history = pd.read_csv('/Users/rewanabdelqader/Collage/Semster 8/Graduation Project/DS/Intersts.csv')\n",
    "reviews = pd.read_csv('/Users/rewanabdelqader/Collage/Semster 8/Graduation Project/DS/Reviews.csv')\n",
    "interests = pd.read_csv('/Users/rewanabdelqader/Collage/Semster 8/Graduation Project/DS/Search History.csv')"
   ]
  },
  {
   "cell_type": "code",
   "execution_count": 3,
   "metadata": {},
   "outputs": [],
   "source": [
    "user_data = pd.merge(booking_history, search_history, on='User ID')\n",
    "user_data = pd.merge(user_data, reviews, on='User ID')\n",
    "user_data = pd.merge(user_data, interests, on='User ID')"
   ]
  },
  {
   "cell_type": "code",
   "execution_count": 2,
   "metadata": {},
   "outputs": [
    {
     "ename": "NameError",
     "evalue": "name 'pd' is not defined",
     "output_type": "error",
     "traceback": [
      "\u001b[0;31m---------------------------------------------------------------------------\u001b[0m",
      "\u001b[0;31mNameError\u001b[0m                                 Traceback (most recent call last)",
      "\u001b[0;32m/var/folders/2s/0csdzgrs4gs5qz5648kq8qtr0000gn/T/ipykernel_15838/2117127681.py\u001b[0m in \u001b[0;36m<module>\u001b[0;34m\u001b[0m\n\u001b[0;32m----> 1\u001b[0;31m \u001b[0muser_data\u001b[0m \u001b[0;34m=\u001b[0m \u001b[0mpd\u001b[0m\u001b[0;34m.\u001b[0m\u001b[0mmerge\u001b[0m\u001b[0;34m(\u001b[0m\u001b[0muser_data\u001b[0m\u001b[0;34m,\u001b[0m \u001b[0muser_data\u001b[0m\u001b[0;34m,\u001b[0m \u001b[0mon\u001b[0m\u001b[0;34m=\u001b[0m\u001b[0;34m'Hangout Place'\u001b[0m\u001b[0;34m)\u001b[0m\u001b[0;34m\u001b[0m\u001b[0;34m\u001b[0m\u001b[0m\n\u001b[0m",
      "\u001b[0;31mNameError\u001b[0m: name 'pd' is not defined"
     ]
    }
   ],
   "source": [
    "user_data = pd.merge(user_data, user_data, on='Hangout Place')"
   ]
  },
  {
   "cell_type": "code",
   "execution_count": null,
   "metadata": {},
   "outputs": [
    {
     "name": "stdout",
     "output_type": "stream",
     "text": [
      "Synthetic data exported to Usre Data.csv\n"
     ]
    }
   ],
   "source": [
    "import os\n",
    "import csv\n",
    "\n",
    "# Set the current working directory to a directory where you have write permissions\n",
    "os.chdir('/Users/rewanabdelqader/Collage/Semster 8/Graduation Project/DS')\n",
    "from datetime import datetime, timedelta\n",
    "filename = 'Usre Data.csv'\n",
    "with open(filename, mode='w', newline='') as file:\n",
    "\n",
    "    # Create a writer object\n",
    "    writer = csv.writer(file)\n",
    "\n",
    "    # Write the header row\n",
    "    writer.writerow(['User ID', 'visited Hangout Place', 'Date', 'Time', 'Number of People','Interest 1','Interest 2','Interest 3','Interest 4','Interest 5','Interest 6','Interest 7','Interest 8','Interest 9','Interest 10','Interest 11','Interest 12','Interest 13','Search Hangout Place','Rate','review',])\n",
    "\n",
    "    # Create a writer object\n",
    "\n",
    "    # Write the header row\n",
    "    writer.writeheader()\n",
    "\n",
    "    # Write the data rows\n",
    "    #for row in user_data:\n",
    "        #writer.writerow(row)\n",
    "\n",
    "print(f\"Synthetic data exported to {filename}\")"
   ]
  },
  {
   "cell_type": "code",
   "execution_count": null,
   "metadata": {},
   "outputs": [],
   "source": []
  }
 ],
 "metadata": {
  "interpreter": {
   "hash": "40d3a090f54c6569ab1632332b64b2c03c39dcf918b08424e98f38b5ae0af88f"
  },
  "kernelspec": {
   "display_name": "Python 3.9.13 ('base')",
   "language": "python",
   "name": "python3"
  },
  "language_info": {
   "codemirror_mode": {
    "name": "ipython",
    "version": 3
   },
   "file_extension": ".py",
   "mimetype": "text/x-python",
   "name": "python",
   "nbconvert_exporter": "python",
   "pygments_lexer": "ipython3",
   "version": "3.9.13"
  },
  "orig_nbformat": 4,
  "vscode": {
   "interpreter": {
    "hash": "40d3a090f54c6569ab1632332b64b2c03c39dcf918b08424e98f38b5ae0af88f"
   }
  }
 },
 "nbformat": 4,
 "nbformat_minor": 2
}
